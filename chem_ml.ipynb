{
 "cells": [
  {
   "cell_type": "code",
   "execution_count": 1,
   "metadata": {},
   "outputs": [],
   "source": [
    "import pandas as pd\n",
    "import numpy as np\n",
    "import matplotlib.pyplot as plt\n",
    "import seaborn as sns\n",
    "\n",
    "from rdkit import Chem\n",
    "from rdkit.Chem import AllChem, Descriptors\n",
    "from gensim.models import word2vec\n",
    "from mol2vec.features import mol2alt_sentence, MolSentence\n",
    "model = word2vec.Word2Vec.load('model_300dim.pkl')\n",
    "\n",
    "from sklearn.model_selection import cross_val_score, ShuffleSplit\n",
    "from sklearn.metrics import mean_squared_error, make_scorer, r2_score\n",
    "\n",
    "from sklearn.preprocessing import StandardScaler\n",
    "from sklearn.pipeline import Pipeline, Parallel\n",
    "from sklearn.compose import TransformedTargetRegressor\n",
    "from sklearn.ensemble import StackingRegressor\n",
    "\n",
    "from sklearn.neighbors import KNeighborsRegressor\n",
    "from sklearn import linear_model as lin\n",
    "from sklearn.svm import SVR\n",
    "from sklearn.neural_network import MLPRegressor\n",
    "from sklearn.ensemble import BaggingRegressor\n",
    "from catboost import CatBoostRegressor\n",
    "\n",
    "from tqdm import trange, tqdm"
   ]
  },
  {
   "cell_type": "code",
   "execution_count": 2,
   "metadata": {},
   "outputs": [],
   "source": [
    "def sentences2vec(sentences, model, unseen=None):\n",
    "    keys = set(model.wv.index_to_key)\n",
    "    vec = []\n",
    "    if unseen:\n",
    "        unseen_vec = model.wv.word_vec(unseen)\n",
    "\n",
    "    for sentence in sentences:\n",
    "        if unseen:\n",
    "            vec.append(sum([model.wv.word_vec(y) if y in set(sentence) & keys\n",
    "                       else unseen_vec for y in sentence]))\n",
    "        else:\n",
    "            vec.append(sum([model.wv.word_vec(y) for y in sentence\n",
    "                            if y in set(sentence) & keys]))\n",
    "    return np.array(vec)"
   ]
  },
  {
   "cell_type": "code",
   "execution_count": 26,
   "metadata": {},
   "outputs": [
    {
     "data": {
      "text/html": [
       "<div>\n",
       "<style scoped>\n",
       "    .dataframe tbody tr th:only-of-type {\n",
       "        vertical-align: middle;\n",
       "    }\n",
       "\n",
       "    .dataframe tbody tr th {\n",
       "        vertical-align: top;\n",
       "    }\n",
       "\n",
       "    .dataframe thead th {\n",
       "        text-align: right;\n",
       "    }\n",
       "</style>\n",
       "<table border=\"1\" class=\"dataframe\">\n",
       "  <thead>\n",
       "    <tr style=\"text-align: right;\">\n",
       "      <th></th>\n",
       "      <th>Title</th>\n",
       "      <th>IC50, mmg/ml</th>\n",
       "      <th>CC50-MDCK, mmg/ml</th>\n",
       "      <th>SI</th>\n",
       "      <th>Molecular weight</th>\n",
       "      <th>Hydrogen bond acceptors</th>\n",
       "      <th>Hydrogen bond donors</th>\n",
       "      <th>Polar SA</th>\n",
       "      <th>SMILES</th>\n",
       "      <th>Pictures</th>\n",
       "    </tr>\n",
       "  </thead>\n",
       "  <tbody>\n",
       "    <tr>\n",
       "      <th>0</th>\n",
       "      <td>1007-Ya-213</td>\n",
       "      <td>2.7</td>\n",
       "      <td>500.0</td>\n",
       "      <td>185.185185</td>\n",
       "      <td>195.307</td>\n",
       "      <td>2</td>\n",
       "      <td>1</td>\n",
       "      <td>32.59</td>\n",
       "      <td>OCC\\N=C(\\[C@]12C)C[C@@H](C1(C)C)CC2</td>\n",
       "      <td>50.0</td>\n",
       "    </tr>\n",
       "    <tr>\n",
       "      <th>1</th>\n",
       "      <td>1007-Ya-213</td>\n",
       "      <td>0.7</td>\n",
       "      <td>447.0</td>\n",
       "      <td>638.571429</td>\n",
       "      <td>195.307</td>\n",
       "      <td>2</td>\n",
       "      <td>1</td>\n",
       "      <td>32.59</td>\n",
       "      <td>OCC\\N=C(\\[C@]12C)C[C@@H](C1(C)C)CC2</td>\n",
       "      <td>51.0</td>\n",
       "    </tr>\n",
       "    <tr>\n",
       "      <th>2</th>\n",
       "      <td>1008-Ya-187</td>\n",
       "      <td>9.9</td>\n",
       "      <td>144.0</td>\n",
       "      <td>14.545455</td>\n",
       "      <td>250.431</td>\n",
       "      <td>1</td>\n",
       "      <td>0</td>\n",
       "      <td>15.60</td>\n",
       "      <td>CCN(CC)CC\\N=C(\\[C@@]12C)C[C@H](C1(C)C)CC2</td>\n",
       "      <td>52.0</td>\n",
       "    </tr>\n",
       "    <tr>\n",
       "      <th>3</th>\n",
       "      <td>1009-As-106</td>\n",
       "      <td>8.3</td>\n",
       "      <td>500.0</td>\n",
       "      <td>60.240964</td>\n",
       "      <td>222.377</td>\n",
       "      <td>1</td>\n",
       "      <td>0</td>\n",
       "      <td>15.60</td>\n",
       "      <td>CN(C)CC\\N=C(\\[C@@]12C)C[C@H](C1(C)C)CC2</td>\n",
       "      <td>53.0</td>\n",
       "    </tr>\n",
       "    <tr>\n",
       "      <th>4</th>\n",
       "      <td>1010-Ya-208</td>\n",
       "      <td>39.4</td>\n",
       "      <td>143.0</td>\n",
       "      <td>3.629442</td>\n",
       "      <td>239.361</td>\n",
       "      <td>2</td>\n",
       "      <td>0</td>\n",
       "      <td>29.54</td>\n",
       "      <td>CN(C)CC(=O)O[C@H]1C[C@H](CC2)C(C)(C)[C@@]12C</td>\n",
       "      <td>54.0</td>\n",
       "    </tr>\n",
       "  </tbody>\n",
       "</table>\n",
       "</div>"
      ],
      "text/plain": [
       "         Title  IC50, mmg/ml  CC50-MDCK, mmg/ml          SI  Molecular weight  \\\n",
       "0  1007-Ya-213           2.7              500.0  185.185185           195.307   \n",
       "1  1007-Ya-213           0.7              447.0  638.571429           195.307   \n",
       "2  1008-Ya-187           9.9              144.0   14.545455           250.431   \n",
       "3  1009-As-106           8.3              500.0   60.240964           222.377   \n",
       "4  1010-Ya-208          39.4              143.0    3.629442           239.361   \n",
       "\n",
       "   Hydrogen bond acceptors  Hydrogen bond donors  Polar SA  \\\n",
       "0                        2                     1     32.59   \n",
       "1                        2                     1     32.59   \n",
       "2                        1                     0     15.60   \n",
       "3                        1                     0     15.60   \n",
       "4                        2                     0     29.54   \n",
       "\n",
       "                                         SMILES  Pictures  \n",
       "0           OCC\\N=C(\\[C@]12C)C[C@@H](C1(C)C)CC2      50.0  \n",
       "1           OCC\\N=C(\\[C@]12C)C[C@@H](C1(C)C)CC2      51.0  \n",
       "2     CCN(CC)CC\\N=C(\\[C@@]12C)C[C@H](C1(C)C)CC2      52.0  \n",
       "3       CN(C)CC\\N=C(\\[C@@]12C)C[C@H](C1(C)C)CC2      53.0  \n",
       "4  CN(C)CC(=O)O[C@H]1C[C@H](CC2)C(C)(C)[C@@]12C      54.0  "
      ]
     },
     "execution_count": 26,
     "metadata": {},
     "output_type": "execute_result"
    }
   ],
   "source": [
    "dfs = pd.read_excel('1400.xlsx')\n",
    "dfb = pd.read_excel('35000.xlsx')\n",
    "dfs.head()"
   ]
  },
  {
   "cell_type": "code",
   "execution_count": 27,
   "metadata": {},
   "outputs": [
    {
     "name": "stderr",
     "output_type": "stream",
     "text": [
      "[12:37:45] Conflicting single bond directions around double bond at index 55.\n",
      "[12:37:45]   BondStereo set to STEREONONE and single bond directions set to NONE.\n",
      "/var/folders/1j/52ghjy5x1v13yrj1b6fgwlcc0000gn/T/ipykernel_41357/90918770.py:5: DeprecationWarning: Call to deprecated `word_vec` (Use get_vector instead).\n",
      "  unseen_vec = model.wv.word_vec(unseen)\n",
      "/var/folders/1j/52ghjy5x1v13yrj1b6fgwlcc0000gn/T/ipykernel_41357/90918770.py:9: DeprecationWarning: Call to deprecated `word_vec` (Use get_vector instead).\n",
      "  vec.append(sum([model.wv.word_vec(y) if y in set(sentence) & keys\n"
     ]
    }
   ],
   "source": [
    "dfs['mol'] = dfs['SMILES'].apply(lambda x: Chem.MolFromSmiles(x))\n",
    "dfb['mol'] = dfb['SMILES'].apply(lambda x: Chem.MolFromSmiles(x))\n",
    "\n",
    "# Calculate Morgan fingerprint\n",
    "RADIUS = 1\n",
    "dfs['sentence'] = dfs.apply(lambda x: MolSentence(mol2alt_sentence(x['mol'], RADIUS)), axis=1)\n",
    "X = sentences2vec(dfs['sentence'], model, unseen='UNK')\n",
    "dfb['sentence'] = dfb.apply(lambda x: MolSentence(mol2alt_sentence(x['mol'], RADIUS)), axis=1)\n",
    "X2 = sentences2vec(dfb['sentence'], model, unseen='UNK')"
   ]
  },
  {
   "cell_type": "code",
   "execution_count": 29,
   "metadata": {},
   "outputs": [],
   "source": [
    "# Y = dfs['IC50']\n",
    "Y = dfs['IC50, mmg/ml']\n",
    "scaler = StandardScaler().fit(Y[Y<310].values.reshape(-1,1))\n",
    "Y2 = dfs['IC50']\n",
    "scaler2 = StandardScaler().fit(Y[Y<310].values.reshape(-1,1))"
   ]
  },
  {
   "cell_type": "markdown",
   "metadata": {},
   "source": [
    "# Эксперименты"
   ]
  },
  {
   "cell_type": "code",
   "execution_count": 60,
   "metadata": {},
   "outputs": [
    {
     "name": "stdout",
     "output_type": "stream",
     "text": [
      "0.7527590130162616 0.7346272793834088 0.7756177678498603 0.8508485473439311 0.8396880551564234\n",
      "0.7907081325499771\n"
     ]
    }
   ],
   "source": [
    "# метрика для сравнения с бейзлайном\n",
    "scores=cross_val_score(\n",
    "    CatBoostRegressor(verbose=0),\n",
    "    X[Y<310], scaler.transform(Y[Y<310].values[:,None]),\n",
    "    cv=ShuffleSplit(5, train_size=844/X.shape[0], random_state=42),\n",
    "    scoring=make_scorer(mean_squared_error)\n",
    ")\n",
    "print(*scores)\n",
    "print(scores.mean())"
   ]
  },
  {
   "cell_type": "code",
   "execution_count": 59,
   "metadata": {},
   "outputs": [
    {
     "name": "stdout",
     "output_type": "stream",
     "text": [
      "0.14839987032706736 0.23149252773124784 0.1645566540139063 0.18522514798746736 0.2706365614812847\n",
      "0.20006215230819474\n"
     ]
    }
   ],
   "source": [
    "# детерменированность модели\n",
    "scores=cross_val_score(\n",
    "    CatBoostRegressor(verbose=0),\n",
    "    X[Y<310], Y[Y<310],\n",
    "    cv=ShuffleSplit(5, train_size=844/X.shape[0], random_state=42)\n",
    ")\n",
    "print(*scores)\n",
    "print(scores.mean())"
   ]
  },
  {
   "cell_type": "code",
   "execution_count": 85,
   "metadata": {},
   "outputs": [
    {
     "name": "stderr",
     "output_type": "stream",
     "text": [
      "/var/folders/1j/52ghjy5x1v13yrj1b6fgwlcc0000gn/T/ipykernel_19884/90918770.py:5: DeprecationWarning: Call to deprecated `word_vec` (Use get_vector instead).\n",
      "  unseen_vec = model.wv.word_vec(unseen)\n",
      "/var/folders/1j/52ghjy5x1v13yrj1b6fgwlcc0000gn/T/ipykernel_19884/90918770.py:9: DeprecationWarning: Call to deprecated `word_vec` (Use get_vector instead).\n",
      "  vec.append(sum([model.wv.word_vec(y) if y in set(sentence) & keys\n"
     ]
    },
    {
     "name": "stdout",
     "output_type": "stream",
     "text": [
      "0.12380771004400482 0.23607717446589116 0.1566860092178055 0.17503544900610124 0.24714859306168313\n",
      "0.18775098715909716\n"
     ]
    }
   ],
   "source": [
    "# C увеличением размера структур становится чуть хуже в среднем\n",
    "RADIUS = 2\n",
    "X = sentences2vec(dfs.apply(lambda x: MolSentence(mol2alt_sentence(x['mol'], RADIUS)), axis=1), model, unseen='UNK')\n",
    "scores=cross_val_score(\n",
    "    CatBoostRegressor(verbose=0),\n",
    "    X[Y<310], Y[Y<310],\n",
    "    cv=ShuffleSplit(5, train_size=844/X.shape[0], random_state=42)\n",
    ")\n",
    "print(*scores)\n",
    "print(scores.mean())"
   ]
  },
  {
   "cell_type": "code",
   "execution_count": 23,
   "metadata": {},
   "outputs": [
    {
     "name": "stderr",
     "output_type": "stream",
     "text": [
      "0it [00:00, ?it/s]"
     ]
    },
    {
     "name": "stderr",
     "output_type": "stream",
     "text": [
      "                      "
     ]
    },
    {
     "name": "stdout",
     "output_type": "stream",
     "text": [
      "0.9978755193360402 0.9992685090120775 0.9990212342236404 0.998902582430803 0.998630840107292\n",
      "0.009846982304297147 0.04882206536649214 0.03495953935265517 -0.09592656108605069 -0.10528567645602616\n",
      "-0.021516730103726477\n"
     ]
    },
    {
     "name": "stderr",
     "output_type": "stream",
     "text": [
      "\r"
     ]
    }
   ],
   "source": [
    "# переобучение есть\n",
    "x_, y_ = X[Y<310][:,], Y[Y<310].values\n",
    "tr_scores = []\n",
    "scores = []\n",
    "for tr, vl in tqdm(ShuffleSplit(5, train_size=844/X.shape[0], random_state=42).split(x_), leave=False):\n",
    "    cat = CatBoostRegressor(verbose=0, random_seed=0)\n",
    "    cat.fit(x_[tr], y_[tr])\n",
    "    tr_scores.append(cat.score(x_[tr], y_[tr]))\n",
    "    scores.append(cat.score(x_[vl], y_[vl]))\n",
    "print(*tr_scores)\n",
    "print(*scores)\n",
    "print(np.mean(scores))"
   ]
  },
  {
   "cell_type": "code",
   "execution_count": 44,
   "metadata": {},
   "outputs": [
    {
     "name": "stderr",
     "output_type": "stream",
     "text": [
      "                      "
     ]
    },
    {
     "name": "stdout",
     "output_type": "stream",
     "text": [
      "0.35095021836864204 0.32654181470931165 0.36081349733327195 0.361737566840167 0.3213555241395937\n",
      "0.20488595677579546 0.2544350494078351 0.16593775693751234 0.15627937357948085 0.21803731988553054\n",
      "0.19991509131723087\n"
     ]
    },
    {
     "name": "stderr",
     "output_type": "stream",
     "text": [
      "\r"
     ]
    }
   ],
   "source": [
    "x_, y_ = X[Y<310][:,], Y[Y<310].values\n",
    "tr_scores = []\n",
    "scores = []\n",
    "for tr, vl in tqdm(ShuffleSplit(5, train_size=844/X.shape[0], random_state=42).split(x_), leave=False):\n",
    "    cat = KNeighborsRegressor(9)\n",
    "    cat.fit(x_[tr], y_[tr])\n",
    "    tr_scores.append(cat.score(x_[tr], y_[tr]))\n",
    "    scores.append(cat.score(x_[vl], y_[vl]))\n",
    "print(*tr_scores)\n",
    "print(*scores)\n",
    "print(np.mean(scores))"
   ]
  },
  {
   "cell_type": "code",
   "execution_count": 16,
   "metadata": {},
   "outputs": [
    {
     "name": "stderr",
     "output_type": "stream",
     "text": [
      "                      "
     ]
    },
    {
     "name": "stdout",
     "output_type": "stream",
     "text": [
      "0.9999543841101667 0.999954581464815 0.9999998753963054 0.9999994211432927 0.9999995484426942\n",
      "-2.427496764505396 -14.209718898090646 -4.006662872543779 -0.5420784707073201 -2.4288026826027993\n",
      "-4.722951937689988\n"
     ]
    },
    {
     "name": "stderr",
     "output_type": "stream",
     "text": [
      "\r"
     ]
    }
   ],
   "source": [
    "x_, y_ = X[Y<310][:,], Y[Y<310].values\n",
    "tr_scores = []\n",
    "scores = []\n",
    "for tr, vl in tqdm(ShuffleSplit(5, train_size=844/X.shape[0], random_state=42).split(x_), leave=False):\n",
    "    cat = KNeighborsRegressor(15, weights='distance')\n",
    "    cat.fit(x_[tr], y_[tr])\n",
    "    tr_scores.append(cat.score(x_[tr], y_[tr]))\n",
    "    scores.append(cat.score(x_[vl], y_[vl]))\n",
    "print(*tr_scores)\n",
    "print(*scores)\n",
    "print(np.mean(scores))"
   ]
  },
  {
   "cell_type": "code",
   "execution_count": 15,
   "metadata": {},
   "outputs": [
    {
     "name": "stderr",
     "output_type": "stream",
     "text": [
      "                      "
     ]
    },
    {
     "name": "stdout",
     "output_type": "stream",
     "text": [
      "0.28639480348412216 0.2691556717185888 0.2778287742026341 0.29353887712135507 0.260556901306487\n",
      "-4.632243928250714 -12.107381143963824 -7.6869549982687335 -1.4287396380498785 -5.106555217932695\n",
      "-6.192374985293169\n"
     ]
    },
    {
     "name": "stderr",
     "output_type": "stream",
     "text": [
      "\r"
     ]
    }
   ],
   "source": [
    "x_, y_ = X[Y<310][:,], Y[Y<310].values\n",
    "tr_scores = []\n",
    "scores = []\n",
    "for tr, vl in tqdm(ShuffleSplit(5, train_size=844/X.shape[0], random_state=42).split(x_), leave=False):\n",
    "    cat = KNeighborsRegressor(10, metric='cosine')\n",
    "    cat.fit(x_[tr], y_[tr])\n",
    "    tr_scores.append(cat.score(x_[tr], y_[tr]))\n",
    "    scores.append(cat.score(x_[vl], y_[vl]))\n",
    "print(*tr_scores)\n",
    "print(*scores)\n",
    "print(np.mean(scores))"
   ]
  },
  {
   "cell_type": "code",
   "execution_count": 132,
   "metadata": {},
   "outputs": [
    {
     "name": "stderr",
     "output_type": "stream",
     "text": [
      "                      "
     ]
    },
    {
     "name": "stdout",
     "output_type": "stream",
     "text": [
      "0.794106857774281 0.7769264797826585 0.7868504824021574 0.7938527525896671 0.7751499724968648\n",
      "0.2450629175103337 0.2886849031826818 0.22490734467838736 0.22260916585854085 0.28701675831941875\n",
      "0.25365621790987253\n"
     ]
    },
    {
     "name": "stderr",
     "output_type": "stream",
     "text": [
      "\r"
     ]
    }
   ],
   "source": [
    "# стэкинг по random_seed\n",
    "x_, y_ = X[Y<310][:,], Y[Y<310].values\n",
    "tr_scores = []\n",
    "scores = []\n",
    "for tr, vl in tqdm(ShuffleSplit(5, train_size=844/X.shape[0], random_state=42).split(x_), leave=False):\n",
    "    cat0 = CatBoostRegressor(verbose=0, random_seed=0).fit(x_[tr], y_[tr])\n",
    "    cat1 = KNeighborsRegressor(9).fit(x_[tr], y_[tr])\n",
    "\n",
    "    tr_scores.append(r2_score(y_[tr], np.stack((\n",
    "        cat0.predict(x_[tr]),\n",
    "        cat1.predict(x_[tr])\n",
    "    )).mean(axis=0)))\n",
    "    scores.append(r2_score(y_[vl], np.stack((\n",
    "        cat0.predict(x_[vl]),\n",
    "        cat1.predict(x_[vl])\n",
    "    )).mean(axis=0)))\n",
    "\n",
    "print(*tr_scores)\n",
    "print(*scores)\n",
    "print(np.mean(scores))"
   ]
  },
  {
   "cell_type": "code",
   "execution_count": 135,
   "metadata": {},
   "outputs": [
    {
     "name": "stderr",
     "output_type": "stream",
     "text": [
      "                      "
     ]
    },
    {
     "name": "stdout",
     "output_type": "stream",
     "text": [
      "0.22317784867397267 0.23035028055548395 0.22405909369547086 0.19925859433444185 0.199070984563035\n",
      "0.667315172801947 0.6799562662284634 0.719588749152046 0.8118093700205321 0.8208301627032477\n",
      "0.7398999441812473\n"
     ]
    },
    {
     "name": "stderr",
     "output_type": "stream",
     "text": [
      "\r"
     ]
    }
   ],
   "source": [
    "# mse стэкинг по random_seed\n",
    "x_, y_ = X[Y<310][:,], scaler.transform(Y[Y<310].values[:,None])[:,0]\n",
    "tr_scores = []\n",
    "scores = []\n",
    "for tr, vl in tqdm(ShuffleSplit(5, train_size=844/X.shape[0], random_state=42).split(x_), leave=False):\n",
    "    cat0 = CatBoostRegressor(verbose=0, random_seed=0).fit(x_[tr], y_[tr])\n",
    "    cat1 = KNeighborsRegressor(9).fit(x_[tr], y_[tr])\n",
    "\n",
    "    tr_scores.append(mean_squared_error(y_[tr], np.stack((\n",
    "        cat0.predict(x_[tr]),\n",
    "        cat1.predict(x_[tr])\n",
    "    )).mean(axis=0)))\n",
    "    scores.append(mean_squared_error(y_[vl], np.stack((\n",
    "        cat0.predict(x_[vl]),\n",
    "        cat1.predict(x_[vl])\n",
    "    )).mean(axis=0)))\n",
    "\n",
    "print(*tr_scores)\n",
    "print(*scores)\n",
    "print(np.mean(scores))"
   ]
  },
  {
   "cell_type": "code",
   "execution_count": 24,
   "metadata": {},
   "outputs": [
    {
     "name": "stderr",
     "output_type": "stream",
     "text": [
      "                      "
     ]
    },
    {
     "name": "stdout",
     "output_type": "stream",
     "text": [
      "0.0861500411079682 0.06726398733184458 0.04789040498074548 0.08418019648077046 0.08347753578791972\n",
      "0.006564747035758933 0.022607477057443592 0.02071185839831613 -0.005783801900079766 0.017492892380922664\n",
      "0.01231863459447231\n"
     ]
    },
    {
     "name": "stderr",
     "output_type": "stream",
     "text": [
      "\r"
     ]
    }
   ],
   "source": [
    "import warnings\n",
    "warnings.filterwarnings('ignore', module='sklearn')\n",
    "\n",
    "x_, y_ = X[Y<310][:,:], Y[Y<310].values\n",
    "tr_scores = []\n",
    "scores = []\n",
    "for tr, vl in tqdm(ShuffleSplit(5, train_size=844/X.shape[0], random_state=42).split(x_), leave=False):\n",
    "    cat = lin.Lasso(2)\n",
    "    cat.fit(x_[tr], y_[tr])\n",
    "    tr_scores.append(cat.score(x_[tr], y_[tr]))\n",
    "    scores.append(cat.score(x_[vl], y_[vl]))\n",
    "print(*tr_scores)\n",
    "print(*scores)\n",
    "print(np.mean(scores))"
   ]
  },
  {
   "cell_type": "code",
   "execution_count": 49,
   "metadata": {},
   "outputs": [
    {
     "name": "stderr",
     "output_type": "stream",
     "text": [
      "                      "
     ]
    },
    {
     "name": "stdout",
     "output_type": "stream",
     "text": [
      "0.7308801982669424 0.6005946382234156 0.6786620709798579 0.8063414271040305 0.7711212361985645\n",
      "0.2289482095957004 0.2536151157639944 0.23992316876813868 0.2418974976623579 0.24911117019965467\n",
      "0.2426990323979692\n"
     ]
    },
    {
     "name": "stderr",
     "output_type": "stream",
     "text": [
      "\r"
     ]
    }
   ],
   "source": [
    "# умная голова заражается переобучением катбуста\n",
    "x_, y_ = X[Y<310][:,], Y[Y<310].values\n",
    "tr_scores = []\n",
    "scores = []\n",
    "for tr, vl in tqdm(ShuffleSplit(5, train_size=844/X.shape[0], random_state=42).split(x_), leave=False):\n",
    "    model = StackingRegressor([\n",
    "        ('cat', CatBoostRegressor(verbose=0, random_seed=0)),\n",
    "        ('knn', KNeighborsRegressor(9)),\n",
    "        ('lin', lin.Lasso(2))\n",
    "    ], lin.LinearRegression(), cv=2).fit(x_[tr], y_[tr])\n",
    "\n",
    "    tr_scores.append(r2_score(y_[tr], model.predict(x_[tr])))\n",
    "    scores.append(r2_score(y_[vl], model.predict(x_[vl])))\n",
    "\n",
    "print(*tr_scores)\n",
    "print(*scores)\n",
    "print(np.mean(scores))"
   ]
  },
  {
   "cell_type": "code",
   "execution_count": 53,
   "metadata": {},
   "outputs": [
    {
     "name": "stderr",
     "output_type": "stream",
     "text": [
      "                      "
     ]
    },
    {
     "name": "stdout",
     "output_type": "stream",
     "text": [
      "0.8642782866685619 0.858980319067788 0.8539375009022928 0.883216439603434 0.8445181427648951\n",
      "0.10105757295882145 0.23055254351818766 0.20652607631519915 0.17407955621510363 0.227532269023776\n",
      "0.18794960360621757\n"
     ]
    },
    {
     "name": "stderr",
     "output_type": "stream",
     "text": [
      "\r"
     ]
    }
   ],
   "source": [
    "x_, y_ = X[Y<310][:,:], Y[Y<310].values\n",
    "tr_scores = []\n",
    "scores = []\n",
    "for tr, vl in tqdm(ShuffleSplit(5, train_size=844/X.shape[0], random_state=42).split(x_), leave=False):\n",
    "    cat = BaggingRegressor(n_estimators=30)\n",
    "    cat.fit(x_[tr], y_[tr])\n",
    "    tr_scores.append(cat.score(x_[tr], y_[tr]))\n",
    "    scores.append(cat.score(x_[vl], y_[vl]))\n",
    "print(*tr_scores)\n",
    "print(*scores)\n",
    "print(np.mean(scores))"
   ]
  },
  {
   "cell_type": "code",
   "execution_count": 54,
   "metadata": {},
   "outputs": [
    {
     "name": "stderr",
     "output_type": "stream",
     "text": [
      "                      "
     ]
    },
    {
     "name": "stdout",
     "output_type": "stream",
     "text": [
      "0.7610285772475057 0.7354940577641109 0.7460820687980421 0.7520816092320881 0.7312390573799125\n",
      "0.22385155677003343 0.28371837488812934 0.2592438662887604 0.24266079804200213 0.2782758718525641\n",
      "0.2575500935682979\n"
     ]
    },
    {
     "name": "stderr",
     "output_type": "stream",
     "text": [
      "\r"
     ]
    }
   ],
   "source": [
    "x_, y_ = X[Y<310][:,], Y[Y<310].values\n",
    "tr_scores = []\n",
    "scores = []\n",
    "for tr, vl in tqdm(ShuffleSplit(5, train_size=844/X.shape[0], random_state=42).split(x_), leave=False):\n",
    "    cat0 = CatBoostRegressor(verbose=0, random_seed=0).fit(x_[tr], y_[tr])\n",
    "    cat1 = KNeighborsRegressor(9).fit(x_[tr], y_[tr])\n",
    "    cat2 = lin.Lasso(2).fit(x_[tr], y_[tr])\n",
    "    cat3 = BaggingRegressor(n_estimators=30).fit(x_[tr], y_[tr])\n",
    "\n",
    "    tr_scores.append(r2_score(y_[tr], np.stack((\n",
    "        cat0.predict(x_[tr]),\n",
    "        cat1.predict(x_[tr]),\n",
    "        cat2.predict(x_[tr]),\n",
    "        cat3.predict(x_[tr])\n",
    "    )).mean(axis=0)))\n",
    "    scores.append(r2_score(y_[vl], np.stack((\n",
    "        cat0.predict(x_[vl]),\n",
    "        cat1.predict(x_[vl]),\n",
    "        cat2.predict(x_[vl]),\n",
    "        cat3.predict(x_[vl])\n",
    "    )).mean(axis=0)))\n",
    "\n",
    "print(*tr_scores)\n",
    "print(*scores)\n",
    "print(np.mean(scores))"
   ]
  },
  {
   "cell_type": "markdown",
   "metadata": {},
   "source": [
    "# Лучшая модель"
   ]
  },
  {
   "cell_type": "code",
   "execution_count": 32,
   "metadata": {},
   "outputs": [
    {
     "name": "stderr",
     "output_type": "stream",
     "text": [
      "                      "
     ]
    },
    {
     "name": "stdout",
     "output_type": "stream",
     "text": [
      "0.7008415983602987 0.6723914268675493 0.6893128648940572 0.6920824006661079 0.6656280633307394\n",
      "0.23545554748513797 0.28646157233239944 0.24285475122502387 0.24210238827945485 0.2842303692744417\n",
      "0.25822092571929156\n"
     ]
    },
    {
     "name": "stderr",
     "output_type": "stream",
     "text": [
      "\r"
     ]
    }
   ],
   "source": [
    "x_, y_ = X[Y<310][:,], Y[Y<310].values\n",
    "tr_scores = []\n",
    "scores = []\n",
    "for tr, vl in tqdm(ShuffleSplit(5, train_size=844/X.shape[0], random_state=42).split(x_), leave=False):\n",
    "    cat0 = CatBoostRegressor(verbose=0, random_seed=0).fit(x_[tr], y_[tr])\n",
    "    cat1 = KNeighborsRegressor(9).fit(x_[tr], y_[tr])\n",
    "    cat2 = lin.Lasso(2).fit(x_[tr], y_[tr])\n",
    "\n",
    "    tr_scores.append(r2_score(y_[tr], np.stack((\n",
    "        cat0.predict(x_[tr]),\n",
    "        cat1.predict(x_[tr]),\n",
    "        cat2.predict(x_[tr])\n",
    "    )).mean(axis=0)))\n",
    "    scores.append(r2_score(y_[vl], np.stack((\n",
    "        cat0.predict(x_[vl]),\n",
    "        cat1.predict(x_[vl]),\n",
    "        cat2.predict(x_[vl])\n",
    "    )).mean(axis=0)))\n",
    "\n",
    "print(*tr_scores)\n",
    "print(*scores)\n",
    "print(np.mean(scores))"
   ]
  },
  {
   "cell_type": "markdown",
   "metadata": {},
   "source": [
    "# Больше данных"
   ]
  },
  {
   "cell_type": "code",
   "execution_count": 40,
   "metadata": {},
   "outputs": [
    {
     "name": "stderr",
     "output_type": "stream",
     "text": [
      "                      "
     ]
    },
    {
     "name": "stdout",
     "output_type": "stream",
     "text": [
      "0.5315259974747557 0.4868933804812213 0.5043393590477274 0.5342407738534338 0.4783515822088049\n",
      "0.3081684778565955 0.3935902109081698 0.35646595135257986 0.349418976781124 0.4020279302121268\n",
      "0.3619343094221192\n"
     ]
    },
    {
     "name": "stderr",
     "output_type": "stream",
     "text": [
      "\r"
     ]
    }
   ],
   "source": [
    "x_, y_ = X[Y<310][:,], Y[Y<310].values\n",
    "tr_scores = []\n",
    "scores = []\n",
    "for tr, vl in tqdm(ShuffleSplit(5, train_size=844/X.shape[0], random_state=42).split(x_), leave=False):\n",
    "    cat = KNeighborsRegressor(9)\n",
    "    cat.fit(np.vstack((x_[tr], X2[Y2<310])), np.concatenate((y_[tr], Y2[Y2<310]), 0))\n",
    "    tr_scores.append(cat.score(x_[tr], y_[tr]))\n",
    "    scores.append(cat.score(x_[vl], y_[vl]))\n",
    "print(*tr_scores)\n",
    "print(*scores)\n",
    "print(np.mean(scores))"
   ]
  },
  {
   "cell_type": "markdown",
   "metadata": {},
   "source": [
    "# Победа!"
   ]
  },
  {
   "cell_type": "code",
   "execution_count": 45,
   "metadata": {},
   "outputs": [
    {
     "name": "stderr",
     "output_type": "stream",
     "text": [
      "                      "
     ]
    },
    {
     "name": "stdout",
     "output_type": "stream",
     "text": [
      "0.6056844552507649 0.5910559855503026 0.5892039461159073 0.6130752158459853 0.5848832311534644\n",
      "0.46464111961241983 0.4928819013377135 0.5051315216918013 0.4700653819610292 0.5030365654280005\n",
      "0.48715129800619283\n"
     ]
    },
    {
     "name": "stderr",
     "output_type": "stream",
     "text": [
      "\r"
     ]
    }
   ],
   "source": [
    "x_, y_ = X[Y<310][:,], Y[Y<310].values\n",
    "tr_scores = []\n",
    "scores = []\n",
    "for tr, vl in tqdm(ShuffleSplit(5, train_size=844/X.shape[0], random_state=42).split(x_), leave=False):\n",
    "    cat0 = CatBoostRegressor(verbose=0, random_seed=0).fit(np.vstack((x_[tr], X2[Y2<310])), np.concatenate((y_[tr], Y2[Y2<310]), 0))\n",
    "    cat1 = KNeighborsRegressor(9).fit(np.vstack((x_[tr], X2[Y2<310])), np.concatenate((y_[tr], Y2[Y2<310]), 0))\n",
    "    cat2 = lin.Lasso(2).fit(np.vstack((x_[tr], X2[Y2<310])), np.concatenate((y_[tr], Y2[Y2<310]), 0))\n",
    "\n",
    "    tr_scores.append(r2_score(y_[tr], np.stack((\n",
    "        cat0.predict(x_[tr]),\n",
    "        cat1.predict(x_[tr]),\n",
    "        cat2.predict(x_[tr])\n",
    "    )).mean(axis=0)))\n",
    "    scores.append(r2_score(y_[vl], np.stack((\n",
    "        cat0.predict(x_[vl]),\n",
    "        cat1.predict(x_[vl]),\n",
    "        cat2.predict(x_[vl])\n",
    "    )).mean(axis=0)))\n",
    "\n",
    "print(*tr_scores)\n",
    "print(*scores)\n",
    "print(np.mean(scores))"
   ]
  }
 ],
 "metadata": {
  "kernelspec": {
   "display_name": "Python 3",
   "language": "python",
   "name": "python3"
  },
  "language_info": {
   "codemirror_mode": {
    "name": "ipython",
    "version": 3
   },
   "file_extension": ".py",
   "mimetype": "text/x-python",
   "name": "python",
   "nbconvert_exporter": "python",
   "pygments_lexer": "ipython3",
   "version": "3.10.6"
  }
 },
 "nbformat": 4,
 "nbformat_minor": 2
}
