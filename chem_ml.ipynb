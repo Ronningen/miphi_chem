{
 "cells": [
  {
   "cell_type": "code",
   "execution_count": 41,
   "metadata": {},
   "outputs": [],
   "source": [
    "import pandas as pd\n",
    "import numpy as np\n",
    "import matplotlib.pyplot as plt\n",
    "import seaborn as sns\n",
    "\n",
    "from rdkit import Chem\n",
    "from rdkit.Chem import AllChem, Descriptors\n",
    "from gensim.models import word2vec\n",
    "from mol2vec.features import mol2alt_sentence, MolSentence\n",
    "model = word2vec.Word2Vec.load('model_300dim.pkl')\n",
    "\n",
    "from sklearn.model_selection import cross_val_score, ShuffleSplit\n",
    "from sklearn.metrics import mean_squared_error, make_scorer, r2_score\n",
    "\n",
    "from sklearn.preprocessing import StandardScaler\n",
    "from sklearn.pipeline import Pipeline, Parallel\n",
    "from sklearn.compose import TransformedTargetRegressor\n",
    "from sklearn.ensemble import StackingRegressor\n",
    "\n",
    "from sklearn.neighbors import KNeighborsRegressor\n",
    "from sklearn import linear_model as lin\n",
    "from sklearn.svm import SVR\n",
    "from sklearn.neural_network import MLPRegressor\n",
    "from sklearn.ensemble import BaggingRegressor\n",
    "from catboost import CatBoostRegressor\n",
    "\n",
    "from tqdm import trange, tqdm"
   ]
  },
  {
   "cell_type": "code",
   "execution_count": 2,
   "metadata": {},
   "outputs": [],
   "source": [
    "def sentences2vec(sentences, model, unseen=None):\n",
    "    keys = set(model.wv.index_to_key)\n",
    "    vec = []\n",
    "    if unseen:\n",
    "        unseen_vec = model.wv.word_vec(unseen)\n",
    "\n",
    "    for sentence in sentences:\n",
    "        if unseen:\n",
    "            vec.append(sum([model.wv.word_vec(y) if y in set(sentence) & keys\n",
    "                       else unseen_vec for y in sentence]))\n",
    "        else:\n",
    "            vec.append(sum([model.wv.word_vec(y) for y in sentence\n",
    "                            if y in set(sentence) & keys]))\n",
    "    return np.array(vec)"
   ]
  },
  {
   "cell_type": "code",
   "execution_count": 3,
   "metadata": {},
   "outputs": [
    {
     "data": {
      "text/html": [
       "<div>\n",
       "<style scoped>\n",
       "    .dataframe tbody tr th:only-of-type {\n",
       "        vertical-align: middle;\n",
       "    }\n",
       "\n",
       "    .dataframe tbody tr th {\n",
       "        vertical-align: top;\n",
       "    }\n",
       "\n",
       "    .dataframe thead th {\n",
       "        text-align: right;\n",
       "    }\n",
       "</style>\n",
       "<table border=\"1\" class=\"dataframe\">\n",
       "  <thead>\n",
       "    <tr style=\"text-align: right;\">\n",
       "      <th></th>\n",
       "      <th>Title</th>\n",
       "      <th>IC50, mmg/ml</th>\n",
       "      <th>CC50-MDCK, mmg/ml</th>\n",
       "      <th>SI</th>\n",
       "      <th>Molecular weight</th>\n",
       "      <th>Hydrogen bond acceptors</th>\n",
       "      <th>Hydrogen bond donors</th>\n",
       "      <th>Polar SA</th>\n",
       "      <th>SMILES</th>\n",
       "      <th>Pictures</th>\n",
       "    </tr>\n",
       "  </thead>\n",
       "  <tbody>\n",
       "    <tr>\n",
       "      <th>0</th>\n",
       "      <td>1007-Ya-213</td>\n",
       "      <td>2.7</td>\n",
       "      <td>500.0</td>\n",
       "      <td>185.185185</td>\n",
       "      <td>195.307</td>\n",
       "      <td>2</td>\n",
       "      <td>1</td>\n",
       "      <td>32.59</td>\n",
       "      <td>OCC\\N=C(\\[C@]12C)C[C@@H](C1(C)C)CC2</td>\n",
       "      <td>50.0</td>\n",
       "    </tr>\n",
       "    <tr>\n",
       "      <th>1</th>\n",
       "      <td>1007-Ya-213</td>\n",
       "      <td>0.7</td>\n",
       "      <td>447.0</td>\n",
       "      <td>638.571429</td>\n",
       "      <td>195.307</td>\n",
       "      <td>2</td>\n",
       "      <td>1</td>\n",
       "      <td>32.59</td>\n",
       "      <td>OCC\\N=C(\\[C@]12C)C[C@@H](C1(C)C)CC2</td>\n",
       "      <td>51.0</td>\n",
       "    </tr>\n",
       "    <tr>\n",
       "      <th>2</th>\n",
       "      <td>1008-Ya-187</td>\n",
       "      <td>9.9</td>\n",
       "      <td>144.0</td>\n",
       "      <td>14.545455</td>\n",
       "      <td>250.431</td>\n",
       "      <td>1</td>\n",
       "      <td>0</td>\n",
       "      <td>15.60</td>\n",
       "      <td>CCN(CC)CC\\N=C(\\[C@@]12C)C[C@H](C1(C)C)CC2</td>\n",
       "      <td>52.0</td>\n",
       "    </tr>\n",
       "    <tr>\n",
       "      <th>3</th>\n",
       "      <td>1009-As-106</td>\n",
       "      <td>8.3</td>\n",
       "      <td>500.0</td>\n",
       "      <td>60.240964</td>\n",
       "      <td>222.377</td>\n",
       "      <td>1</td>\n",
       "      <td>0</td>\n",
       "      <td>15.60</td>\n",
       "      <td>CN(C)CC\\N=C(\\[C@@]12C)C[C@H](C1(C)C)CC2</td>\n",
       "      <td>53.0</td>\n",
       "    </tr>\n",
       "    <tr>\n",
       "      <th>4</th>\n",
       "      <td>1010-Ya-208</td>\n",
       "      <td>39.4</td>\n",
       "      <td>143.0</td>\n",
       "      <td>3.629442</td>\n",
       "      <td>239.361</td>\n",
       "      <td>2</td>\n",
       "      <td>0</td>\n",
       "      <td>29.54</td>\n",
       "      <td>CN(C)CC(=O)O[C@H]1C[C@H](CC2)C(C)(C)[C@@]12C</td>\n",
       "      <td>54.0</td>\n",
       "    </tr>\n",
       "  </tbody>\n",
       "</table>\n",
       "</div>"
      ],
      "text/plain": [
       "         Title  IC50, mmg/ml  CC50-MDCK, mmg/ml          SI  Molecular weight  \\\n",
       "0  1007-Ya-213           2.7              500.0  185.185185           195.307   \n",
       "1  1007-Ya-213           0.7              447.0  638.571429           195.307   \n",
       "2  1008-Ya-187           9.9              144.0   14.545455           250.431   \n",
       "3  1009-As-106           8.3              500.0   60.240964           222.377   \n",
       "4  1010-Ya-208          39.4              143.0    3.629442           239.361   \n",
       "\n",
       "   Hydrogen bond acceptors  Hydrogen bond donors  Polar SA  \\\n",
       "0                        2                     1     32.59   \n",
       "1                        2                     1     32.59   \n",
       "2                        1                     0     15.60   \n",
       "3                        1                     0     15.60   \n",
       "4                        2                     0     29.54   \n",
       "\n",
       "                                         SMILES  Pictures  \n",
       "0           OCC\\N=C(\\[C@]12C)C[C@@H](C1(C)C)CC2      50.0  \n",
       "1           OCC\\N=C(\\[C@]12C)C[C@@H](C1(C)C)CC2      51.0  \n",
       "2     CCN(CC)CC\\N=C(\\[C@@]12C)C[C@H](C1(C)C)CC2      52.0  \n",
       "3       CN(C)CC\\N=C(\\[C@@]12C)C[C@H](C1(C)C)CC2      53.0  \n",
       "4  CN(C)CC(=O)O[C@H]1C[C@H](CC2)C(C)(C)[C@@]12C      54.0  "
      ]
     },
     "execution_count": 3,
     "metadata": {},
     "output_type": "execute_result"
    }
   ],
   "source": [
    "dfs = pd.read_excel('1400.xlsx')\n",
    "dfb = pd.read_excel('35000.xlsx')\n",
    "dfs.head()"
   ]
  },
  {
   "cell_type": "code",
   "execution_count": 4,
   "metadata": {},
   "outputs": [
    {
     "name": "stderr",
     "output_type": "stream",
     "text": [
      "[00:13:36] Conflicting single bond directions around double bond at index 55.\n",
      "[00:13:36]   BondStereo set to STEREONONE and single bond directions set to NONE.\n",
      "/var/folders/1j/52ghjy5x1v13yrj1b6fgwlcc0000gn/T/ipykernel_27723/90918770.py:5: DeprecationWarning: Call to deprecated `word_vec` (Use get_vector instead).\n",
      "  unseen_vec = model.wv.word_vec(unseen)\n",
      "/var/folders/1j/52ghjy5x1v13yrj1b6fgwlcc0000gn/T/ipykernel_27723/90918770.py:9: DeprecationWarning: Call to deprecated `word_vec` (Use get_vector instead).\n",
      "  vec.append(sum([model.wv.word_vec(y) if y in set(sentence) & keys\n"
     ]
    }
   ],
   "source": [
    "dfs['mol'] = dfs['SMILES'].apply(lambda x: Chem.MolFromSmiles(x))\n",
    "\n",
    "#Extract descriptors\n",
    "# dfs['tpsa'] = dfs['mol'].apply(lambda x: Descriptors.TPSA(x))\n",
    "# dfs['mol_w'] = dfs['mol'].apply(lambda x: Descriptors.ExactMolWt(x))\n",
    "# dfs['num_valence_electrons'] = dfs['mol'].apply(lambda x: Descriptors.NumValenceElectrons(x))\n",
    "# dfs['num_heteroatoms'] = dfs['mol'].apply(lambda x: Descriptors.NumHeteroatoms(x))\n",
    "\n",
    "# Calculate Morgan fingerprint\n",
    "RADIUS = 1\n",
    "dfs['sentence'] = dfs.apply(lambda x: MolSentence(mol2alt_sentence(x['mol'], RADIUS)), axis=1)\n",
    "X = sentences2vec(dfs['sentence'], model, unseen='UNK')"
   ]
  },
  {
   "cell_type": "code",
   "execution_count": 5,
   "metadata": {},
   "outputs": [],
   "source": [
    "Y = dfs['IC50, mmg/ml']\n",
    "scaler = StandardScaler().fit(Y[Y<310].values.reshape(-1,1))"
   ]
  },
  {
   "cell_type": "markdown",
   "metadata": {},
   "source": [
    "# Эксперименты"
   ]
  },
  {
   "cell_type": "code",
   "execution_count": 60,
   "metadata": {},
   "outputs": [
    {
     "name": "stdout",
     "output_type": "stream",
     "text": [
      "0.7527590130162616 0.7346272793834088 0.7756177678498603 0.8508485473439311 0.8396880551564234\n",
      "0.7907081325499771\n"
     ]
    }
   ],
   "source": [
    "# метрика для сравнения с бейзлайном\n",
    "scores=cross_val_score(\n",
    "    CatBoostRegressor(verbose=0),\n",
    "    X[Y<310], scaler.transform(Y[Y<310].values[:,None]),\n",
    "    cv=ShuffleSplit(5, train_size=844/X.shape[0], random_state=42),\n",
    "    scoring=make_scorer(mean_squared_error)\n",
    ")\n",
    "print(*scores)\n",
    "print(scores.mean())"
   ]
  },
  {
   "cell_type": "code",
   "execution_count": 59,
   "metadata": {},
   "outputs": [
    {
     "name": "stdout",
     "output_type": "stream",
     "text": [
      "0.14839987032706736 0.23149252773124784 0.1645566540139063 0.18522514798746736 0.2706365614812847\n",
      "0.20006215230819474\n"
     ]
    }
   ],
   "source": [
    "# детерменированность модели\n",
    "scores=cross_val_score(\n",
    "    CatBoostRegressor(verbose=0),\n",
    "    X[Y<310], Y[Y<310],\n",
    "    cv=ShuffleSplit(5, train_size=844/X.shape[0], random_state=42)\n",
    ")\n",
    "print(*scores)\n",
    "print(scores.mean())"
   ]
  },
  {
   "cell_type": "code",
   "execution_count": 85,
   "metadata": {},
   "outputs": [
    {
     "name": "stderr",
     "output_type": "stream",
     "text": [
      "/var/folders/1j/52ghjy5x1v13yrj1b6fgwlcc0000gn/T/ipykernel_19884/90918770.py:5: DeprecationWarning: Call to deprecated `word_vec` (Use get_vector instead).\n",
      "  unseen_vec = model.wv.word_vec(unseen)\n",
      "/var/folders/1j/52ghjy5x1v13yrj1b6fgwlcc0000gn/T/ipykernel_19884/90918770.py:9: DeprecationWarning: Call to deprecated `word_vec` (Use get_vector instead).\n",
      "  vec.append(sum([model.wv.word_vec(y) if y in set(sentence) & keys\n"
     ]
    },
    {
     "name": "stdout",
     "output_type": "stream",
     "text": [
      "0.12380771004400482 0.23607717446589116 0.1566860092178055 0.17503544900610124 0.24714859306168313\n",
      "0.18775098715909716\n"
     ]
    }
   ],
   "source": [
    "# C увеличением размера структур становится чуть хуже в среднем\n",
    "RADIUS = 2\n",
    "X = sentences2vec(dfs.apply(lambda x: MolSentence(mol2alt_sentence(x['mol'], RADIUS)), axis=1), model, unseen='UNK')\n",
    "scores=cross_val_score(\n",
    "    CatBoostRegressor(verbose=0),\n",
    "    X[Y<310], Y[Y<310],\n",
    "    cv=ShuffleSplit(5, train_size=844/X.shape[0], random_state=42)\n",
    ")\n",
    "print(*scores)\n",
    "print(scores.mean())"
   ]
  },
  {
   "cell_type": "code",
   "execution_count": 97,
   "metadata": {},
   "outputs": [
    {
     "name": "stderr",
     "output_type": "stream",
     "text": [
      "                      "
     ]
    },
    {
     "name": "stdout",
     "output_type": "stream",
     "text": [
      "0.9699013162199536 0.9576584989395325 0.9585744202381216 0.9664182077241886 0.9574434172409289\n",
      "0.14839987032706736 0.23149252773124784 0.1645566540139063 0.18522514798746736 0.2706365614812847\n",
      "0.20006215230819474\n"
     ]
    },
    {
     "name": "stderr",
     "output_type": "stream",
     "text": [
      "\r"
     ]
    }
   ],
   "source": [
    "# переобучение есть\n",
    "x_, y_ = X[Y<310][:,], Y[Y<310].values\n",
    "tr_scores = []\n",
    "scores = []\n",
    "for tr, vl in tqdm(ShuffleSplit(5, train_size=844/X.shape[0], random_state=42).split(x_), leave=False):\n",
    "    cat = CatBoostRegressor(verbose=0, random_seed=0)\n",
    "    cat.fit(x_[tr], y_[tr])\n",
    "    tr_scores.append(cat.score(x_[tr], y_[tr]))\n",
    "    scores.append(cat.score(x_[vl], y_[vl]))\n",
    "print(*tr_scores)\n",
    "print(*scores)\n",
    "print(np.mean(scores))"
   ]
  },
  {
   "cell_type": "code",
   "execution_count": 130,
   "metadata": {},
   "outputs": [
    {
     "name": "stderr",
     "output_type": "stream",
     "text": [
      "                      "
     ]
    },
    {
     "name": "stdout",
     "output_type": "stream",
     "text": [
      "0.35095021836864204 0.32654181470931165 0.36081349733327195 0.361737566840167 0.3213555241395937\n",
      "0.20488595677579546 0.2544350494078351 0.16593775693751234 0.15627937357948085 0.21803731988553054\n",
      "0.19991509131723087\n"
     ]
    },
    {
     "name": "stderr",
     "output_type": "stream",
     "text": [
      "\r"
     ]
    }
   ],
   "source": [
    "x_, y_ = X[Y<310][:,], Y[Y<310].values\n",
    "tr_scores = []\n",
    "scores = []\n",
    "for tr, vl in tqdm(ShuffleSplit(5, train_size=844/X.shape[0], random_state=42).split(x_), leave=False):\n",
    "    cat = KNeighborsRegressor(9)\n",
    "    cat.fit(x_[tr], y_[tr])\n",
    "    tr_scores.append(cat.score(x_[tr], y_[tr]))\n",
    "    scores.append(cat.score(x_[vl], y_[vl]))\n",
    "print(*tr_scores)\n",
    "print(*scores)\n",
    "print(np.mean(scores))"
   ]
  },
  {
   "cell_type": "code",
   "execution_count": 145,
   "metadata": {},
   "outputs": [
    {
     "name": "stderr",
     "output_type": "stream",
     "text": [
      "                      "
     ]
    },
    {
     "name": "stdout",
     "output_type": "stream",
     "text": [
      "0.9793474756858217 0.9681860655540724 0.9688656235773144 0.9759661683721067 0.9692737385017425\n",
      "0.1693461535313039 0.23356838998889096 0.17354977760705081 0.15822437904803444 0.2399334695105878\n",
      "0.19492443393717357\n"
     ]
    },
    {
     "name": "stderr",
     "output_type": "stream",
     "text": [
      "\r"
     ]
    }
   ],
   "source": [
    "x_, y_ = X[Y<310][:,], Y[Y<310].values\n",
    "tr_scores = []\n",
    "scores = []\n",
    "for tr, vl in tqdm(ShuffleSplit(5, train_size=844/X.shape[0], random_state=42).split(x_), leave=False):\n",
    "    cat = KNeighborsRegressor(15, weights='distance')\n",
    "    cat.fit(x_[tr], y_[tr])\n",
    "    tr_scores.append(cat.score(x_[tr], y_[tr]))\n",
    "    scores.append(cat.score(x_[vl], y_[vl]))\n",
    "print(*tr_scores)\n",
    "print(*scores)\n",
    "print(np.mean(scores))"
   ]
  },
  {
   "cell_type": "code",
   "execution_count": 161,
   "metadata": {},
   "outputs": [
    {
     "name": "stderr",
     "output_type": "stream",
     "text": [
      "                      "
     ]
    },
    {
     "name": "stdout",
     "output_type": "stream",
     "text": [
      "0.33373681893769425 0.3139887972535953 0.35655491842121567 0.3665608824337916 0.30243763745309615\n",
      "0.16892845394679068 0.23563479346563232 0.18201623903992215 0.18122234860119846 0.21625418059822132\n",
      "0.196811203130353\n"
     ]
    },
    {
     "name": "stderr",
     "output_type": "stream",
     "text": [
      "\r"
     ]
    }
   ],
   "source": [
    "x_, y_ = X[Y<310][:,], Y[Y<310].values\n",
    "tr_scores = []\n",
    "scores = []\n",
    "for tr, vl in tqdm(ShuffleSplit(5, train_size=844/X.shape[0], random_state=42).split(x_), leave=False):\n",
    "    cat = KNeighborsRegressor(10, metric='cosine')\n",
    "    cat.fit(x_[tr], y_[tr])\n",
    "    tr_scores.append(cat.score(x_[tr], y_[tr]))\n",
    "    scores.append(cat.score(x_[vl], y_[vl]))\n",
    "print(*tr_scores)\n",
    "print(*scores)\n",
    "print(np.mean(scores))"
   ]
  },
  {
   "cell_type": "code",
   "execution_count": 132,
   "metadata": {},
   "outputs": [
    {
     "name": "stderr",
     "output_type": "stream",
     "text": [
      "                      "
     ]
    },
    {
     "name": "stdout",
     "output_type": "stream",
     "text": [
      "0.794106857774281 0.7769264797826585 0.7868504824021574 0.7938527525896671 0.7751499724968648\n",
      "0.2450629175103337 0.2886849031826818 0.22490734467838736 0.22260916585854085 0.28701675831941875\n",
      "0.25365621790987253\n"
     ]
    },
    {
     "name": "stderr",
     "output_type": "stream",
     "text": [
      "\r"
     ]
    }
   ],
   "source": [
    "# стэкинг по random_seed\n",
    "x_, y_ = X[Y<310][:,], Y[Y<310].values\n",
    "tr_scores = []\n",
    "scores = []\n",
    "for tr, vl in tqdm(ShuffleSplit(5, train_size=844/X.shape[0], random_state=42).split(x_), leave=False):\n",
    "    cat0 = CatBoostRegressor(verbose=0, random_seed=0).fit(x_[tr], y_[tr])\n",
    "    cat1 = KNeighborsRegressor(9).fit(x_[tr], y_[tr])\n",
    "\n",
    "    tr_scores.append(r2_score(y_[tr], np.stack((\n",
    "        cat0.predict(x_[tr]),\n",
    "        cat1.predict(x_[tr])\n",
    "    )).mean(axis=0)))\n",
    "    scores.append(r2_score(y_[vl], np.stack((\n",
    "        cat0.predict(x_[vl]),\n",
    "        cat1.predict(x_[vl])\n",
    "    )).mean(axis=0)))\n",
    "\n",
    "print(*tr_scores)\n",
    "print(*scores)\n",
    "print(np.mean(scores))"
   ]
  },
  {
   "cell_type": "code",
   "execution_count": 135,
   "metadata": {},
   "outputs": [
    {
     "name": "stderr",
     "output_type": "stream",
     "text": [
      "                      "
     ]
    },
    {
     "name": "stdout",
     "output_type": "stream",
     "text": [
      "0.22317784867397267 0.23035028055548395 0.22405909369547086 0.19925859433444185 0.199070984563035\n",
      "0.667315172801947 0.6799562662284634 0.719588749152046 0.8118093700205321 0.8208301627032477\n",
      "0.7398999441812473\n"
     ]
    },
    {
     "name": "stderr",
     "output_type": "stream",
     "text": [
      "\r"
     ]
    }
   ],
   "source": [
    "# mse стэкинг по random_seed\n",
    "x_, y_ = X[Y<310][:,], scaler.transform(Y[Y<310].values[:,None])[:,0]\n",
    "tr_scores = []\n",
    "scores = []\n",
    "for tr, vl in tqdm(ShuffleSplit(5, train_size=844/X.shape[0], random_state=42).split(x_), leave=False):\n",
    "    cat0 = CatBoostRegressor(verbose=0, random_seed=0).fit(x_[tr], y_[tr])\n",
    "    cat1 = KNeighborsRegressor(9).fit(x_[tr], y_[tr])\n",
    "\n",
    "    tr_scores.append(mean_squared_error(y_[tr], np.stack((\n",
    "        cat0.predict(x_[tr]),\n",
    "        cat1.predict(x_[tr])\n",
    "    )).mean(axis=0)))\n",
    "    scores.append(mean_squared_error(y_[vl], np.stack((\n",
    "        cat0.predict(x_[vl]),\n",
    "        cat1.predict(x_[vl])\n",
    "    )).mean(axis=0)))\n",
    "\n",
    "print(*tr_scores)\n",
    "print(*scores)\n",
    "print(np.mean(scores))"
   ]
  },
  {
   "cell_type": "code",
   "execution_count": 31,
   "metadata": {},
   "outputs": [
    {
     "name": "stderr",
     "output_type": "stream",
     "text": [
      "0it [00:00, ?it/s]"
     ]
    },
    {
     "name": "stderr",
     "output_type": "stream",
     "text": [
      "                      \r"
     ]
    },
    {
     "name": "stdout",
     "output_type": "stream",
     "text": [
      "0.3719609899584321 0.3265582381806946 0.34015715356099085 0.3294053283578676 0.2969074866389756\n",
      "0.0760145861021908 0.1830600630705449 0.1573983936820743 0.1682876450221934 0.19514925099109992\n",
      "0.15598198777362066\n"
     ]
    }
   ],
   "source": [
    "import warnings\n",
    "warnings.filterwarnings('ignore', module='sklearn')\n",
    "\n",
    "x_, y_ = X[Y<310][:,:], Y[Y<310].values\n",
    "tr_scores = []\n",
    "scores = []\n",
    "for tr, vl in tqdm(ShuffleSplit(5, train_size=844/X.shape[0], random_state=42).split(x_), leave=False):\n",
    "    cat = lin.Lasso(2)\n",
    "    cat.fit(x_[tr], y_[tr])\n",
    "    tr_scores.append(cat.score(x_[tr], y_[tr]))\n",
    "    scores.append(cat.score(x_[vl], y_[vl]))\n",
    "print(*tr_scores)\n",
    "print(*scores)\n",
    "print(np.mean(scores))"
   ]
  },
  {
   "cell_type": "code",
   "execution_count": 49,
   "metadata": {},
   "outputs": [
    {
     "name": "stderr",
     "output_type": "stream",
     "text": [
      "                      "
     ]
    },
    {
     "name": "stdout",
     "output_type": "stream",
     "text": [
      "0.7308801982669424 0.6005946382234156 0.6786620709798579 0.8063414271040305 0.7711212361985645\n",
      "0.2289482095957004 0.2536151157639944 0.23992316876813868 0.2418974976623579 0.24911117019965467\n",
      "0.2426990323979692\n"
     ]
    },
    {
     "name": "stderr",
     "output_type": "stream",
     "text": [
      "\r"
     ]
    }
   ],
   "source": [
    "# умная голова заражается переобучением катбуста\n",
    "x_, y_ = X[Y<310][:,], Y[Y<310].values\n",
    "tr_scores = []\n",
    "scores = []\n",
    "for tr, vl in tqdm(ShuffleSplit(5, train_size=844/X.shape[0], random_state=42).split(x_), leave=False):\n",
    "    model = StackingRegressor([\n",
    "        ('cat', CatBoostRegressor(verbose=0, random_seed=0)),\n",
    "        ('knn', KNeighborsRegressor(9)),\n",
    "        ('lin', lin.Lasso(2))\n",
    "    ], lin.LinearRegression(), cv=2).fit(x_[tr], y_[tr])\n",
    "\n",
    "    tr_scores.append(r2_score(y_[tr], model.predict(x_[tr])))\n",
    "    scores.append(r2_score(y_[vl], model.predict(x_[vl])))\n",
    "\n",
    "print(*tr_scores)\n",
    "print(*scores)\n",
    "print(np.mean(scores))"
   ]
  },
  {
   "cell_type": "code",
   "execution_count": 53,
   "metadata": {},
   "outputs": [
    {
     "name": "stderr",
     "output_type": "stream",
     "text": [
      "                      "
     ]
    },
    {
     "name": "stdout",
     "output_type": "stream",
     "text": [
      "0.8642782866685619 0.858980319067788 0.8539375009022928 0.883216439603434 0.8445181427648951\n",
      "0.10105757295882145 0.23055254351818766 0.20652607631519915 0.17407955621510363 0.227532269023776\n",
      "0.18794960360621757\n"
     ]
    },
    {
     "name": "stderr",
     "output_type": "stream",
     "text": [
      "\r"
     ]
    }
   ],
   "source": [
    "x_, y_ = X[Y<310][:,:], Y[Y<310].values\n",
    "tr_scores = []\n",
    "scores = []\n",
    "for tr, vl in tqdm(ShuffleSplit(5, train_size=844/X.shape[0], random_state=42).split(x_), leave=False):\n",
    "    cat = BaggingRegressor(n_estimators=30)\n",
    "    cat.fit(x_[tr], y_[tr])\n",
    "    tr_scores.append(cat.score(x_[tr], y_[tr]))\n",
    "    scores.append(cat.score(x_[vl], y_[vl]))\n",
    "print(*tr_scores)\n",
    "print(*scores)\n",
    "print(np.mean(scores))"
   ]
  },
  {
   "cell_type": "code",
   "execution_count": 54,
   "metadata": {},
   "outputs": [
    {
     "name": "stderr",
     "output_type": "stream",
     "text": [
      "                      "
     ]
    },
    {
     "name": "stdout",
     "output_type": "stream",
     "text": [
      "0.7610285772475057 0.7354940577641109 0.7460820687980421 0.7520816092320881 0.7312390573799125\n",
      "0.22385155677003343 0.28371837488812934 0.2592438662887604 0.24266079804200213 0.2782758718525641\n",
      "0.2575500935682979\n"
     ]
    },
    {
     "name": "stderr",
     "output_type": "stream",
     "text": [
      "\r"
     ]
    }
   ],
   "source": [
    "x_, y_ = X[Y<310][:,], Y[Y<310].values\n",
    "tr_scores = []\n",
    "scores = []\n",
    "for tr, vl in tqdm(ShuffleSplit(5, train_size=844/X.shape[0], random_state=42).split(x_), leave=False):\n",
    "    cat0 = CatBoostRegressor(verbose=0, random_seed=0).fit(x_[tr], y_[tr])\n",
    "    cat1 = KNeighborsRegressor(9).fit(x_[tr], y_[tr])\n",
    "    cat2 = lin.Lasso(2).fit(x_[tr], y_[tr])\n",
    "    cat3 = BaggingRegressor(n_estimators=30).fit(x_[tr], y_[tr])\n",
    "\n",
    "    tr_scores.append(r2_score(y_[tr], np.stack((\n",
    "        cat0.predict(x_[tr]),\n",
    "        cat1.predict(x_[tr]),\n",
    "        cat2.predict(x_[tr]),\n",
    "        cat3.predict(x_[tr])\n",
    "    )).mean(axis=0)))\n",
    "    scores.append(r2_score(y_[vl], np.stack((\n",
    "        cat0.predict(x_[vl]),\n",
    "        cat1.predict(x_[vl]),\n",
    "        cat2.predict(x_[vl]),\n",
    "        cat3.predict(x_[vl])\n",
    "    )).mean(axis=0)))\n",
    "\n",
    "print(*tr_scores)\n",
    "print(*scores)\n",
    "print(np.mean(scores))"
   ]
  },
  {
   "cell_type": "markdown",
   "metadata": {},
   "source": [
    "# Лучшая модель"
   ]
  },
  {
   "cell_type": "code",
   "execution_count": 32,
   "metadata": {},
   "outputs": [
    {
     "name": "stderr",
     "output_type": "stream",
     "text": [
      "                      "
     ]
    },
    {
     "name": "stdout",
     "output_type": "stream",
     "text": [
      "0.7008415983602987 0.6723914268675493 0.6893128648940572 0.6920824006661079 0.6656280633307394\n",
      "0.23545554748513797 0.28646157233239944 0.24285475122502387 0.24210238827945485 0.2842303692744417\n",
      "0.25822092571929156\n"
     ]
    },
    {
     "name": "stderr",
     "output_type": "stream",
     "text": [
      "\r"
     ]
    }
   ],
   "source": [
    "x_, y_ = X[Y<310][:,], Y[Y<310].values\n",
    "tr_scores = []\n",
    "scores = []\n",
    "for tr, vl in tqdm(ShuffleSplit(5, train_size=844/X.shape[0], random_state=42).split(x_), leave=False):\n",
    "    cat0 = CatBoostRegressor(verbose=0, random_seed=0).fit(x_[tr], y_[tr])\n",
    "    cat1 = KNeighborsRegressor(9).fit(x_[tr], y_[tr])\n",
    "    cat2 = lin.Lasso(2).fit(x_[tr], y_[tr])\n",
    "\n",
    "    tr_scores.append(r2_score(y_[tr], np.stack((\n",
    "        cat0.predict(x_[tr]),\n",
    "        cat1.predict(x_[tr]),\n",
    "        cat2.predict(x_[tr])\n",
    "    )).mean(axis=0)))\n",
    "    scores.append(r2_score(y_[vl], np.stack((\n",
    "        cat0.predict(x_[vl]),\n",
    "        cat1.predict(x_[vl]),\n",
    "        cat2.predict(x_[vl])\n",
    "    )).mean(axis=0)))\n",
    "\n",
    "print(*tr_scores)\n",
    "print(*scores)\n",
    "print(np.mean(scores))"
   ]
  }
 ],
 "metadata": {
  "kernelspec": {
   "display_name": "Python 3",
   "language": "python",
   "name": "python3"
  },
  "language_info": {
   "codemirror_mode": {
    "name": "ipython",
    "version": 3
   },
   "file_extension": ".py",
   "mimetype": "text/x-python",
   "name": "python",
   "nbconvert_exporter": "python",
   "pygments_lexer": "ipython3",
   "version": "3.10.6"
  }
 },
 "nbformat": 4,
 "nbformat_minor": 2
}
