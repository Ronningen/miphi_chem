{
 "cells": [
  {
   "cell_type": "code",
   "execution_count": 376,
   "metadata": {},
   "outputs": [],
   "source": [
    "import pandas as pd\n",
    "import numpy as np\n",
    "import awkward as ak\n",
    "import matplotlib.pyplot as plt\n",
    "import seaborn as sns\n",
    "\n",
    "from rdkit import Chem, DataStructs\n",
    "from rdkit.Chem import PandasTools, AllChem\n",
    "\n",
    "import ripser\n",
    "import teaspoon.TDA.Draw as Draw\n",
    "import persim\n",
    "\n",
    "from sklearn.model_selection import train_test_split, cross_val_score, ShuffleSplit\n",
    "from sklearn.metrics import mean_squared_error, make_scorer\n",
    "\n",
    "from sklearn.preprocessing import StandardScaler\n",
    "from sklearn.neighbors import KNeighborsRegressor\n",
    "from catboost import CatBoostRegressor\n",
    "from sklearn.svm import SVR\n",
    "\n",
    "from tqdm import trange, tqdm"
   ]
  },
  {
   "cell_type": "code",
   "execution_count": 2,
   "metadata": {},
   "outputs": [],
   "source": [
    "dfs = pd.read_excel('1400.xlsx')\n",
    "dfb = pd.read_excel('35000.xlsx')"
   ]
  },
  {
   "cell_type": "code",
   "execution_count": 7,
   "metadata": {},
   "outputs": [
    {
     "data": {
      "text/html": [
       "<div>\n",
       "<style scoped>\n",
       "    .dataframe tbody tr th:only-of-type {\n",
       "        vertical-align: middle;\n",
       "    }\n",
       "\n",
       "    .dataframe tbody tr th {\n",
       "        vertical-align: top;\n",
       "    }\n",
       "\n",
       "    .dataframe thead th {\n",
       "        text-align: right;\n",
       "    }\n",
       "</style>\n",
       "<table border=\"1\" class=\"dataframe\">\n",
       "  <thead>\n",
       "    <tr style=\"text-align: right;\">\n",
       "      <th></th>\n",
       "      <th>Title</th>\n",
       "      <th>IC50, mmg/ml</th>\n",
       "      <th>CC50-MDCK, mmg/ml</th>\n",
       "      <th>SI</th>\n",
       "      <th>Molecular weight</th>\n",
       "      <th>Hydrogen bond acceptors</th>\n",
       "      <th>Hydrogen bond donors</th>\n",
       "      <th>Polar SA</th>\n",
       "      <th>SMILES</th>\n",
       "      <th>Pictures</th>\n",
       "    </tr>\n",
       "  </thead>\n",
       "  <tbody>\n",
       "    <tr>\n",
       "      <th>0</th>\n",
       "      <td>1007-Ya-213</td>\n",
       "      <td>2.7</td>\n",
       "      <td>500.0</td>\n",
       "      <td>185.185185</td>\n",
       "      <td>195.307</td>\n",
       "      <td>2</td>\n",
       "      <td>1</td>\n",
       "      <td>32.59</td>\n",
       "      <td>OCC\\N=C(\\[C@]12C)C[C@@H](C1(C)C)CC2</td>\n",
       "      <td>50.0</td>\n",
       "    </tr>\n",
       "    <tr>\n",
       "      <th>1</th>\n",
       "      <td>1007-Ya-213</td>\n",
       "      <td>0.7</td>\n",
       "      <td>447.0</td>\n",
       "      <td>638.571429</td>\n",
       "      <td>195.307</td>\n",
       "      <td>2</td>\n",
       "      <td>1</td>\n",
       "      <td>32.59</td>\n",
       "      <td>OCC\\N=C(\\[C@]12C)C[C@@H](C1(C)C)CC2</td>\n",
       "      <td>51.0</td>\n",
       "    </tr>\n",
       "    <tr>\n",
       "      <th>2</th>\n",
       "      <td>1008-Ya-187</td>\n",
       "      <td>9.9</td>\n",
       "      <td>144.0</td>\n",
       "      <td>14.545455</td>\n",
       "      <td>250.431</td>\n",
       "      <td>1</td>\n",
       "      <td>0</td>\n",
       "      <td>15.60</td>\n",
       "      <td>CCN(CC)CC\\N=C(\\[C@@]12C)C[C@H](C1(C)C)CC2</td>\n",
       "      <td>52.0</td>\n",
       "    </tr>\n",
       "    <tr>\n",
       "      <th>3</th>\n",
       "      <td>1009-As-106</td>\n",
       "      <td>8.3</td>\n",
       "      <td>500.0</td>\n",
       "      <td>60.240964</td>\n",
       "      <td>222.377</td>\n",
       "      <td>1</td>\n",
       "      <td>0</td>\n",
       "      <td>15.60</td>\n",
       "      <td>CN(C)CC\\N=C(\\[C@@]12C)C[C@H](C1(C)C)CC2</td>\n",
       "      <td>53.0</td>\n",
       "    </tr>\n",
       "    <tr>\n",
       "      <th>4</th>\n",
       "      <td>1010-Ya-208</td>\n",
       "      <td>39.4</td>\n",
       "      <td>143.0</td>\n",
       "      <td>3.629442</td>\n",
       "      <td>239.361</td>\n",
       "      <td>2</td>\n",
       "      <td>0</td>\n",
       "      <td>29.54</td>\n",
       "      <td>CN(C)CC(=O)O[C@H]1C[C@H](CC2)C(C)(C)[C@@]12C</td>\n",
       "      <td>54.0</td>\n",
       "    </tr>\n",
       "    <tr>\n",
       "      <th>...</th>\n",
       "      <td>...</td>\n",
       "      <td>...</td>\n",
       "      <td>...</td>\n",
       "      <td>...</td>\n",
       "      <td>...</td>\n",
       "      <td>...</td>\n",
       "      <td>...</td>\n",
       "      <td>...</td>\n",
       "      <td>...</td>\n",
       "      <td>...</td>\n",
       "    </tr>\n",
       "    <tr>\n",
       "      <th>1463</th>\n",
       "      <td>CHEMBL4251117</td>\n",
       "      <td>7.3</td>\n",
       "      <td>530.6</td>\n",
       "      <td>72.800000</td>\n",
       "      <td>238.330</td>\n",
       "      <td>3</td>\n",
       "      <td>0</td>\n",
       "      <td>39.44</td>\n",
       "      <td>CCCCCCCc1c(OC)c(C)c(=O)oc1</td>\n",
       "      <td>NaN</td>\n",
       "    </tr>\n",
       "    <tr>\n",
       "      <th>1464</th>\n",
       "      <td>CHEMBL4217515</td>\n",
       "      <td>3.8</td>\n",
       "      <td>4733.9</td>\n",
       "      <td>1250.000000</td>\n",
       "      <td>427.417</td>\n",
       "      <td>2</td>\n",
       "      <td>1</td>\n",
       "      <td>124.74</td>\n",
       "      <td>COc(cc1)cc(c12)ccc(c2)-c(c3C([O-])=O)c(C([O-])...</td>\n",
       "      <td>NaN</td>\n",
       "    </tr>\n",
       "    <tr>\n",
       "      <th>1465</th>\n",
       "      <td>CHEMBL4205814</td>\n",
       "      <td>0.3</td>\n",
       "      <td>4733.9</td>\n",
       "      <td>14285.700000</td>\n",
       "      <td>427.417</td>\n",
       "      <td>2</td>\n",
       "      <td>1</td>\n",
       "      <td>124.74</td>\n",
       "      <td>COc(cc1)cc(c12)ccc(c2)-c(c3C([O-])=O)c(C([O-])...</td>\n",
       "      <td>NaN</td>\n",
       "    </tr>\n",
       "    <tr>\n",
       "      <th>1466</th>\n",
       "      <td>CHEMBL4212064</td>\n",
       "      <td>0.7</td>\n",
       "      <td>3662.8</td>\n",
       "      <td>5555.600000</td>\n",
       "      <td>320.304</td>\n",
       "      <td>1</td>\n",
       "      <td>0</td>\n",
       "      <td>89.49</td>\n",
       "      <td>c1ccc(C([O-])=O)c(c1C([O-])=O)-c(c2)ccc(c23)cc...</td>\n",
       "      <td>NaN</td>\n",
       "    </tr>\n",
       "    <tr>\n",
       "      <th>1467</th>\n",
       "      <td>CHEMBL4452992</td>\n",
       "      <td>0.1</td>\n",
       "      <td>37646.0</td>\n",
       "      <td>312500.000000</td>\n",
       "      <td>376.459</td>\n",
       "      <td>3</td>\n",
       "      <td>3</td>\n",
       "      <td>126.57</td>\n",
       "      <td>CCC(CC)O[C@H](C=C1C(=O)O)[C@H](NC(=O)C)[C@H](C...</td>\n",
       "      <td>NaN</td>\n",
       "    </tr>\n",
       "  </tbody>\n",
       "</table>\n",
       "<p>1468 rows × 10 columns</p>\n",
       "</div>"
      ],
      "text/plain": [
       "              Title  IC50, mmg/ml  CC50-MDCK, mmg/ml             SI  \\\n",
       "0       1007-Ya-213           2.7              500.0     185.185185   \n",
       "1       1007-Ya-213           0.7              447.0     638.571429   \n",
       "2       1008-Ya-187           9.9              144.0      14.545455   \n",
       "3       1009-As-106           8.3              500.0      60.240964   \n",
       "4       1010-Ya-208          39.4              143.0       3.629442   \n",
       "...             ...           ...                ...            ...   \n",
       "1463  CHEMBL4251117           7.3              530.6      72.800000   \n",
       "1464  CHEMBL4217515           3.8             4733.9    1250.000000   \n",
       "1465  CHEMBL4205814           0.3             4733.9   14285.700000   \n",
       "1466  CHEMBL4212064           0.7             3662.8    5555.600000   \n",
       "1467  CHEMBL4452992           0.1            37646.0  312500.000000   \n",
       "\n",
       "      Molecular weight  Hydrogen bond acceptors  Hydrogen bond donors  \\\n",
       "0              195.307                        2                     1   \n",
       "1              195.307                        2                     1   \n",
       "2              250.431                        1                     0   \n",
       "3              222.377                        1                     0   \n",
       "4              239.361                        2                     0   \n",
       "...                ...                      ...                   ...   \n",
       "1463           238.330                        3                     0   \n",
       "1464           427.417                        2                     1   \n",
       "1465           427.417                        2                     1   \n",
       "1466           320.304                        1                     0   \n",
       "1467           376.459                        3                     3   \n",
       "\n",
       "      Polar SA                                             SMILES  Pictures  \n",
       "0        32.59                OCC\\N=C(\\[C@]12C)C[C@@H](C1(C)C)CC2      50.0  \n",
       "1        32.59                OCC\\N=C(\\[C@]12C)C[C@@H](C1(C)C)CC2      51.0  \n",
       "2        15.60          CCN(CC)CC\\N=C(\\[C@@]12C)C[C@H](C1(C)C)CC2      52.0  \n",
       "3        15.60            CN(C)CC\\N=C(\\[C@@]12C)C[C@H](C1(C)C)CC2      53.0  \n",
       "4        29.54       CN(C)CC(=O)O[C@H]1C[C@H](CC2)C(C)(C)[C@@]12C      54.0  \n",
       "...        ...                                                ...       ...  \n",
       "1463     39.44                         CCCCCCCc1c(OC)c(C)c(=O)oc1       NaN  \n",
       "1464    124.74  COc(cc1)cc(c12)ccc(c2)-c(c3C([O-])=O)c(C([O-])...       NaN  \n",
       "1465    124.74  COc(cc1)cc(c12)ccc(c2)-c(c3C([O-])=O)c(C([O-])...       NaN  \n",
       "1466     89.49  c1ccc(C([O-])=O)c(c1C([O-])=O)-c(c2)ccc(c23)cc...       NaN  \n",
       "1467    126.57  CCC(CC)O[C@H](C=C1C(=O)O)[C@H](NC(=O)C)[C@H](C...       NaN  \n",
       "\n",
       "[1468 rows x 10 columns]"
      ]
     },
     "execution_count": 7,
     "metadata": {},
     "output_type": "execute_result"
    }
   ],
   "source": [
    "dfs"
   ]
  },
  {
   "cell_type": "code",
   "execution_count": 255,
   "metadata": {},
   "outputs": [
    {
     "name": "stderr",
     "output_type": "stream",
     "text": [
      "  0%|          | 0/1468 [00:01<?, ?it/s]\n"
     ]
    }
   ],
   "source": [
    "bar = trange(dfs.shape[0])\n",
    "\n",
    "def represent(smiles, maxdim=2):\n",
    "    m = Chem.MolFromSmiles(smiles)\n",
    "    m = Chem.AddHs(m)\n",
    "    AllChem.EmbedMolecule(m)\n",
    "    r = pd.Series({'SMILES': smiles, 'dmgs': None})\n",
    "    try:\n",
    "        AllChem.MMFFOptimizeMolecule(m)\n",
    "        coords = m.GetConformer().GetPositions()\n",
    "        # r['ma'] = np.mean([a.GetAtomicNum() for a in Chem.RemoveAllHs(m).GetAtoms()])\n",
    "        r['dmgs'] = ripser.ripser(coords, maxdim)['dgms']\n",
    "    except:\n",
    "        pass\n",
    "    bar.update()\n",
    "    return r"
   ]
  },
  {
   "cell_type": "code",
   "execution_count": 256,
   "metadata": {},
   "outputs": [
    {
     "name": "stderr",
     "output_type": "stream",
     "text": [
      " 16%|█▌        | 236/1468 [04:44<02:14,  9.17it/s]  [15:49:55] UFFTYPER: Unrecognized atom type: N_ (1)\n",
      " 50%|█████     | 739/1468 [06:02<08:57,  1.36it/s][15:51:13] Conflicting single bond directions around double bond at index 55.\n",
      "[15:51:13]   BondStereo set to STEREONONE and single bond directions set to NONE.\n",
      "100%|██████████| 1468/1468 [09:00<00:00, 14.11it/s]"
     ]
    }
   ],
   "source": [
    "tdfs = dfs.SMILES.apply(represent)"
   ]
  },
  {
   "cell_type": "code",
   "execution_count": 321,
   "metadata": {},
   "outputs": [],
   "source": [
    "# Приведение всех диаграмм первого порядка к одному размеру l - с ним можно еще поиграться\n",
    "def clippad(x, l=10):\n",
    "    x = x[1][:l]\n",
    "    x = np.pad(x, [(0, l-x.shape[0]), (0, 0)])\n",
    "    return pd.Series(x.flatten())\n",
    "X = tdfs['dmgs'].dropna().apply(clippad)"
   ]
  },
  {
   "cell_type": "code",
   "execution_count": 294,
   "metadata": {},
   "outputs": [],
   "source": [
    "Y = dfs['IC50, mmg/ml'].loc[X.index]\n",
    "scaler = StandardScaler().fit(Y[Y<310].values.reshape(-1,1))"
   ]
  },
  {
   "cell_type": "code",
   "execution_count": 350,
   "metadata": {},
   "outputs": [
    {
     "name": "stdout",
     "output_type": "stream",
     "text": [
      "0.8344886550595321 0.998750867898553 1.016297434962489 0.9577063663021139 0.9806719614495499\n",
      "0.9575830571344476\n"
     ]
    }
   ],
   "source": [
    "scores=cross_val_score(\n",
    "    CatBoostRegressor(verbose=0),\n",
    "    X[Y<310], scaler.transform(Y[Y<310].values[:,None]),\n",
    "    cv=ShuffleSplit(5, train_size=844/X.shape[0], random_state=42),\n",
    "    scoring=make_scorer(mean_squared_error)\n",
    ")\n",
    "print(*scores)\n",
    "print(scores.mean())"
   ]
  },
  {
   "cell_type": "code",
   "execution_count": 352,
   "metadata": {},
   "outputs": [
    {
     "name": "stdout",
     "output_type": "stream",
     "text": [
      "0.1557658673996163 0.05769518946191454 0.09838750385780948 0.06600560704550507 0.018357186328586073\n",
      "0.07924227081868629\n"
     ]
    }
   ],
   "source": [
    "scores=cross_val_score(\n",
    "    CatBoostRegressor(verbose=0),\n",
    "    X[Y<310], Y[Y<310],\n",
    "    cv=ShuffleSplit(5, train_size=844/X.shape[0], random_state=42)\n",
    ")\n",
    "print(*scores)\n",
    "print(scores.mean())"
   ]
  },
  {
   "cell_type": "code",
   "execution_count": 377,
   "metadata": {},
   "outputs": [
    {
     "name": "stdout",
     "output_type": "stream",
     "text": [
      "-0.1825341858527021 -0.1935171214538598 -0.21062378261396453 -0.21746362779244421 -0.1541995423359408\n",
      "-0.19166765200978228\n"
     ]
    }
   ],
   "source": [
    "# метрика близости персистентных диаграмм первого порядка\n",
    "def dist(a, b): return persim.bottleneck(a.reshape((-1,2)), b.reshape((-1,2)))\n",
    "\n",
    "scores=cross_val_score(\n",
    "    SVR(),\n",
    "    X[Y<310], Y[Y<310],\n",
    "    cv=ShuffleSplit(5, train_size=844/X.shape[0], random_state=42)\n",
    ")\n",
    "print(*scores)\n",
    "print(scores.mean())"
   ]
  }
 ],
 "metadata": {
  "kernelspec": {
   "display_name": "Python 3",
   "language": "python",
   "name": "python3"
  },
  "language_info": {
   "codemirror_mode": {
    "name": "ipython",
    "version": 3
   },
   "file_extension": ".py",
   "mimetype": "text/x-python",
   "name": "python",
   "nbconvert_exporter": "python",
   "pygments_lexer": "ipython3",
   "version": "3.10.6"
  }
 },
 "nbformat": 4,
 "nbformat_minor": 2
}
