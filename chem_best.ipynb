{
 "cells": [
  {
   "cell_type": "code",
   "execution_count": 56,
   "metadata": {},
   "outputs": [],
   "source": [
    "import pandas as pd\n",
    "import numpy as np\n",
    "import matplotlib.pyplot as plt\n",
    "import seaborn as sns\n",
    "\n",
    "from rdkit import Chem\n",
    "from rdkit.Chem import AllChem, Descriptors\n",
    "from gensim.models import word2vec\n",
    "from mol2vec.features import mol2alt_sentence, MolSentence\n",
    "model = word2vec.Word2Vec.load('model_300dim.pkl')\n",
    "\n",
    "from sklearn.model_selection import cross_val_score, ShuffleSplit\n",
    "from sklearn.metrics import mean_squared_error, make_scorer, r2_score\n",
    "\n",
    "from sklearn.preprocessing import StandardScaler\n",
    "from sklearn.pipeline import Pipeline, Parallel\n",
    "from sklearn.compose import TransformedTargetRegressor\n",
    "from sklearn.ensemble import StackingRegressor\n",
    "\n",
    "from sklearn.neighbors import KNeighborsRegressor\n",
    "from sklearn import linear_model as lin\n",
    "from sklearn.svm import SVR\n",
    "from sklearn.neural_network import MLPRegressor\n",
    "from sklearn.ensemble import BaggingRegressor\n",
    "from catboost import CatBoostRegressor\n",
    "\n",
    "from tqdm import trange, tqdm"
   ]
  },
  {
   "cell_type": "code",
   "execution_count": 57,
   "metadata": {},
   "outputs": [
    {
     "data": {
      "text/html": [
       "<div>\n",
       "<style scoped>\n",
       "    .dataframe tbody tr th:only-of-type {\n",
       "        vertical-align: middle;\n",
       "    }\n",
       "\n",
       "    .dataframe tbody tr th {\n",
       "        vertical-align: top;\n",
       "    }\n",
       "\n",
       "    .dataframe thead th {\n",
       "        text-align: right;\n",
       "    }\n",
       "</style>\n",
       "<table border=\"1\" class=\"dataframe\">\n",
       "  <thead>\n",
       "    <tr style=\"text-align: right;\">\n",
       "      <th></th>\n",
       "      <th>Title</th>\n",
       "      <th>IC50, mmg/ml</th>\n",
       "      <th>CC50-MDCK, mmg/ml</th>\n",
       "      <th>SI</th>\n",
       "      <th>Molecular weight</th>\n",
       "      <th>Hydrogen bond acceptors</th>\n",
       "      <th>Hydrogen bond donors</th>\n",
       "      <th>Polar SA</th>\n",
       "      <th>SMILES</th>\n",
       "      <th>Pictures</th>\n",
       "    </tr>\n",
       "  </thead>\n",
       "  <tbody>\n",
       "    <tr>\n",
       "      <th>0</th>\n",
       "      <td>1007-Ya-213</td>\n",
       "      <td>2.7</td>\n",
       "      <td>500.0</td>\n",
       "      <td>185.185185</td>\n",
       "      <td>195.307</td>\n",
       "      <td>2</td>\n",
       "      <td>1</td>\n",
       "      <td>32.59</td>\n",
       "      <td>OCC\\N=C(\\[C@]12C)C[C@@H](C1(C)C)CC2</td>\n",
       "      <td>50.0</td>\n",
       "    </tr>\n",
       "    <tr>\n",
       "      <th>1</th>\n",
       "      <td>1007-Ya-213</td>\n",
       "      <td>0.7</td>\n",
       "      <td>447.0</td>\n",
       "      <td>638.571429</td>\n",
       "      <td>195.307</td>\n",
       "      <td>2</td>\n",
       "      <td>1</td>\n",
       "      <td>32.59</td>\n",
       "      <td>OCC\\N=C(\\[C@]12C)C[C@@H](C1(C)C)CC2</td>\n",
       "      <td>51.0</td>\n",
       "    </tr>\n",
       "    <tr>\n",
       "      <th>2</th>\n",
       "      <td>1008-Ya-187</td>\n",
       "      <td>9.9</td>\n",
       "      <td>144.0</td>\n",
       "      <td>14.545455</td>\n",
       "      <td>250.431</td>\n",
       "      <td>1</td>\n",
       "      <td>0</td>\n",
       "      <td>15.60</td>\n",
       "      <td>CCN(CC)CC\\N=C(\\[C@@]12C)C[C@H](C1(C)C)CC2</td>\n",
       "      <td>52.0</td>\n",
       "    </tr>\n",
       "    <tr>\n",
       "      <th>3</th>\n",
       "      <td>1009-As-106</td>\n",
       "      <td>8.3</td>\n",
       "      <td>500.0</td>\n",
       "      <td>60.240964</td>\n",
       "      <td>222.377</td>\n",
       "      <td>1</td>\n",
       "      <td>0</td>\n",
       "      <td>15.60</td>\n",
       "      <td>CN(C)CC\\N=C(\\[C@@]12C)C[C@H](C1(C)C)CC2</td>\n",
       "      <td>53.0</td>\n",
       "    </tr>\n",
       "    <tr>\n",
       "      <th>4</th>\n",
       "      <td>1010-Ya-208</td>\n",
       "      <td>39.4</td>\n",
       "      <td>143.0</td>\n",
       "      <td>3.629442</td>\n",
       "      <td>239.361</td>\n",
       "      <td>2</td>\n",
       "      <td>0</td>\n",
       "      <td>29.54</td>\n",
       "      <td>CN(C)CC(=O)O[C@H]1C[C@H](CC2)C(C)(C)[C@@]12C</td>\n",
       "      <td>54.0</td>\n",
       "    </tr>\n",
       "  </tbody>\n",
       "</table>\n",
       "</div>"
      ],
      "text/plain": [
       "         Title  IC50, mmg/ml  CC50-MDCK, mmg/ml          SI  Molecular weight  \\\n",
       "0  1007-Ya-213           2.7              500.0  185.185185           195.307   \n",
       "1  1007-Ya-213           0.7              447.0  638.571429           195.307   \n",
       "2  1008-Ya-187           9.9              144.0   14.545455           250.431   \n",
       "3  1009-As-106           8.3              500.0   60.240964           222.377   \n",
       "4  1010-Ya-208          39.4              143.0    3.629442           239.361   \n",
       "\n",
       "   Hydrogen bond acceptors  Hydrogen bond donors  Polar SA  \\\n",
       "0                        2                     1     32.59   \n",
       "1                        2                     1     32.59   \n",
       "2                        1                     0     15.60   \n",
       "3                        1                     0     15.60   \n",
       "4                        2                     0     29.54   \n",
       "\n",
       "                                         SMILES  Pictures  \n",
       "0           OCC\\N=C(\\[C@]12C)C[C@@H](C1(C)C)CC2      50.0  \n",
       "1           OCC\\N=C(\\[C@]12C)C[C@@H](C1(C)C)CC2      51.0  \n",
       "2     CCN(CC)CC\\N=C(\\[C@@]12C)C[C@H](C1(C)C)CC2      52.0  \n",
       "3       CN(C)CC\\N=C(\\[C@@]12C)C[C@H](C1(C)C)CC2      53.0  \n",
       "4  CN(C)CC(=O)O[C@H]1C[C@H](CC2)C(C)(C)[C@@]12C      54.0  "
      ]
     },
     "execution_count": 57,
     "metadata": {},
     "output_type": "execute_result"
    }
   ],
   "source": [
    "dfs = pd.read_excel('1400.xlsx')\n",
    "dfb = pd.read_excel('35000.xlsx')\n",
    "dfs.head()"
   ]
  },
  {
   "cell_type": "code",
   "execution_count": 2,
   "metadata": {},
   "outputs": [],
   "source": [
    "def sentences2vec(sentences, model, unseen=None):\n",
    "    keys = set(model.wv.index_to_key)\n",
    "    vec = []\n",
    "    if unseen:\n",
    "        unseen_vec = model.wv.word_vec(unseen)\n",
    "\n",
    "    for sentence in sentences:\n",
    "        if unseen:\n",
    "            vec.append(sum([model.wv.word_vec(y) if y in set(sentence) & keys\n",
    "                       else unseen_vec for y in sentence]))\n",
    "        else:\n",
    "            vec.append(sum([model.wv.word_vec(y) for y in sentence\n",
    "                            if y in set(sentence) & keys]))\n",
    "    return np.array(vec)"
   ]
  },
  {
   "cell_type": "code",
   "execution_count": 4,
   "metadata": {},
   "outputs": [
    {
     "name": "stderr",
     "output_type": "stream",
     "text": [
      "[00:10:10] Conflicting single bond directions around double bond at index 55.\n",
      "[00:10:10]   BondStereo set to STEREONONE and single bond directions set to NONE.\n",
      "[00:10:10] Conflicting single bond directions around double bond at index 55.\n",
      "[00:10:10]   BondStereo set to STEREONONE and single bond directions set to NONE.\n",
      "[00:10:16] Conflicting single bond directions around double bond at index 7.\n",
      "[00:10:16]   BondStereo set to STEREONONE and single bond directions set to NONE.\n",
      "/var/folders/1j/52ghjy5x1v13yrj1b6fgwlcc0000gn/T/ipykernel_53521/90918770.py:5: DeprecationWarning: Call to deprecated `word_vec` (Use get_vector instead).\n",
      "  unseen_vec = model.wv.word_vec(unseen)\n",
      "/var/folders/1j/52ghjy5x1v13yrj1b6fgwlcc0000gn/T/ipykernel_53521/90918770.py:9: DeprecationWarning: Call to deprecated `word_vec` (Use get_vector instead).\n",
      "  vec.append(sum([model.wv.word_vec(y) if y in set(sentence) & keys\n",
      "/var/folders/1j/52ghjy5x1v13yrj1b6fgwlcc0000gn/T/ipykernel_53521/90918770.py:5: DeprecationWarning: Call to deprecated `word_vec` (Use get_vector instead).\n",
      "  unseen_vec = model.wv.word_vec(unseen)\n",
      "/var/folders/1j/52ghjy5x1v13yrj1b6fgwlcc0000gn/T/ipykernel_53521/90918770.py:9: DeprecationWarning: Call to deprecated `word_vec` (Use get_vector instead).\n",
      "  vec.append(sum([model.wv.word_vec(y) if y in set(sentence) & keys\n"
     ]
    }
   ],
   "source": [
    "dfs['mol'] = dfs['SMILES'].apply(lambda x: Chem.MolFromSmiles(x))\n",
    "dfb['mol'] = dfb['SMILES'].apply(lambda x: Chem.MolFromSmiles(x))\n",
    "\n",
    "# Calculate Morgan fingerprint\n",
    "RADIUS = 1\n",
    "dfs['sentence'] = dfs.apply(lambda x: MolSentence(mol2alt_sentence(x['mol'], RADIUS)), axis=1)\n",
    "X = sentences2vec(dfs['sentence'], model, unseen='UNK')\n",
    "dfb['sentence'] = dfb.apply(lambda x: MolSentence(mol2alt_sentence(x['mol'], RADIUS)), axis=1)\n",
    "X2 = sentences2vec(dfb['sentence'], model, unseen='UNK')"
   ]
  },
  {
   "cell_type": "code",
   "execution_count": 58,
   "metadata": {},
   "outputs": [],
   "source": [
    "Y = dfs['IC50, mmg/ml']\n",
    "Y2 = dfb['IC50']"
   ]
  },
  {
   "cell_type": "code",
   "execution_count": 60,
   "metadata": {},
   "outputs": [
    {
     "name": "stderr",
     "output_type": "stream",
     "text": [
      "                      "
     ]
    },
    {
     "name": "stdout",
     "output_type": "stream",
     "text": [
      "0.9200878383282312 0.9144158836108776 0.9017079254227198 0.9156014198694417 0.9027504504257565\n",
      "0.7669829854617771 0.7794918856966079 0.803640679701646 0.7937784229704656 0.8175915306699788\n",
      "0.7922971009000951\n"
     ]
    },
    {
     "name": "stderr",
     "output_type": "stream",
     "text": [
      "\r"
     ]
    }
   ],
   "source": [
    "# лучшие скоры для IC50\n",
    "x_, y_ = X[Y<310][:,], Y[Y<310].values\n",
    "tr_scores = []\n",
    "scores = []\n",
    "for tr, vl in tqdm(ShuffleSplit(5, train_size=844/X.shape[0], random_state=42).split(x_), leave=False):\n",
    "    cat0 = CatBoostRegressor(verbose=0, random_seed=0).fit(np.vstack((x_[tr], X2[Y2<310])), np.concatenate((y_[tr], Y2[Y2<310]), 0))\n",
    "    cat1 = CatBoostRegressor(verbose=0, random_seed=1).fit(np.vstack((x_[tr], X2[Y2<310])), np.concatenate((y_[tr], Y2[Y2<310]), 0))\n",
    "\n",
    "    tr_scores.append(r2_score(y_[tr], np.stack((\n",
    "        cat0.predict(x_[tr]),\n",
    "        cat1.predict(x_[tr])\n",
    "    )).mean(axis=0)))\n",
    "    scores.append(r2_score(y_[vl], np.stack((\n",
    "        cat0.predict(x_[vl]),\n",
    "        cat1.predict(x_[vl])\n",
    "    )).mean(axis=0)))\n",
    "\n",
    "print(*tr_scores)\n",
    "print(*scores)\n",
    "print(np.mean(scores))"
   ]
  },
  {
   "cell_type": "code",
   "execution_count": 61,
   "metadata": {},
   "outputs": [],
   "source": [
    "Y = dfs['CC50-MDCK, mmg/ml']"
   ]
  },
  {
   "cell_type": "code",
   "execution_count": 73,
   "metadata": {},
   "outputs": [
    {
     "name": "stderr",
     "output_type": "stream",
     "text": [
      "                      "
     ]
    },
    {
     "name": "stdout",
     "output_type": "stream",
     "text": [
      "0.910811943894764 0.8953204680313808 0.8923404665438956 0.9051742630208762 0.8983650565901389\n",
      "0.39684402818211706 0.4665628927796095 0.49026221396202774 0.366034274558133 0.4725362207170042\n",
      "0.43844792603977834\n"
     ]
    },
    {
     "name": "stderr",
     "output_type": "stream",
     "text": [
      "\r"
     ]
    }
   ],
   "source": [
    "# лучшие скоры для СС50\n",
    "x_, y_ = X[Y<600], Y[Y<600].values\n",
    "tr_scores = []\n",
    "scores = []\n",
    "for tr, vl in tqdm(ShuffleSplit(5, train_size=844/X.shape[0], random_state=42).split(x_), leave=False):\n",
    "    cat0 = CatBoostRegressor(verbose=0, random_state=0, depth=3).fit(x_[tr], y_[tr])\n",
    "    cat1 = CatBoostRegressor(verbose=0, random_state=1, depth=3).fit(x_[tr], y_[tr])\n",
    "\n",
    "    tr_scores.append(r2_score(y_[tr], np.stack((\n",
    "        cat0.predict(x_[tr]),\n",
    "        cat1.predict(x_[tr])\n",
    "    )).mean(axis=0)))\n",
    "    scores.append(r2_score(y_[vl], np.stack((\n",
    "        cat0.predict(x_[vl]),\n",
    "        cat1.predict(x_[vl])\n",
    "    )).mean(axis=0)))\n",
    "\n",
    "print(*tr_scores)\n",
    "print(*scores)\n",
    "print(np.mean(scores))"
   ]
  }
 ],
 "metadata": {
  "kernelspec": {
   "display_name": "Python 3",
   "language": "python",
   "name": "python3"
  },
  "language_info": {
   "codemirror_mode": {
    "name": "ipython",
    "version": 3
   },
   "file_extension": ".py",
   "mimetype": "text/x-python",
   "name": "python",
   "nbconvert_exporter": "python",
   "pygments_lexer": "ipython3",
   "version": "3.10.6"
  }
 },
 "nbformat": 4,
 "nbformat_minor": 2
}
